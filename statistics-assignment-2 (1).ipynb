{
 "cells": [
  {
   "cell_type": "markdown",
   "metadata": {},
   "source": [
    "# Question 1"
   ]
  },
  {
   "cell_type": "code",
   "execution_count": 84,
   "metadata": {
    "_cell_guid": "b1076dfc-b9ad-4769-8c92-a6c4dae69d19",
    "_uuid": "8f2839f25d086af736a60e9eeb907d3b93b6e0e5",
    "execution": {
     "iopub.execute_input": "2022-11-10T15:58:10.098780Z",
     "iopub.status.busy": "2022-11-10T15:58:10.098249Z",
     "iopub.status.idle": "2022-11-10T15:58:10.115777Z",
     "shell.execute_reply": "2022-11-10T15:58:10.114674Z",
     "shell.execute_reply.started": "2022-11-10T15:58:10.098739Z"
    }
   },
   "outputs": [
    {
     "name": "stdout",
     "output_type": "stream",
     "text": [
      "/kaggle/input/titanic/train.csv\n",
      "/kaggle/input/titanic/test.csv\n",
      "/kaggle/input/titanic/gender_submission.csv\n",
      "/kaggle/input/amex-competition/dataset/sample_submission.csv\n",
      "/kaggle/input/amex-competition/dataset/train.csv\n",
      "/kaggle/input/amex-competition/dataset/test.csv\n"
     ]
    }
   ],
   "source": [
    "# This Python 3 environment comes with many helpful analytics libraries installed\n",
    "# It is defined by the kaggle/python Docker image: https://github.com/kaggle/docker-python\n",
    "# For example, here's several helpful packages to load\n",
    "\n",
    "import numpy as np # linear algebra\n",
    "import pandas as pd # data processing, CSV file I/O (e.g. pd.read_csv)\n",
    "\n",
    "# Input data files are available in the read-only \"../input/\" directory\n",
    "# For example, running this (by clicking run or pressing Shift+Enter) will list all files under the input directory\n",
    "\n",
    "import os\n",
    "for dirname, _, filenames in os.walk('/kaggle/input'):\n",
    "    for filename in filenames:\n",
    "        print(os.path.join(dirname, filename))\n",
    "\n",
    "# You can write up to 20GB to the current directory (/kaggle/working/) that gets preserved as output when you create a version using \"Save & Run All\" \n",
    "# You can also write temporary files to /kaggle/temp/, but they won't be saved outside of the current session"
   ]
  },
  {
   "cell_type": "code",
   "execution_count": 60,
   "metadata": {
    "execution": {
     "iopub.execute_input": "2022-11-10T15:52:49.134132Z",
     "iopub.status.busy": "2022-11-10T15:52:49.133580Z",
     "iopub.status.idle": "2022-11-10T15:52:49.140508Z",
     "shell.execute_reply": "2022-11-10T15:52:49.139478Z",
     "shell.execute_reply.started": "2022-11-10T15:52:49.134082Z"
    }
   },
   "outputs": [],
   "source": [
    "import os\n",
    "import pandas as pd\n",
    "import numpy as np\n"
   ]
  },
  {
   "cell_type": "code",
   "execution_count": 61,
   "metadata": {
    "execution": {
     "iopub.execute_input": "2022-11-10T15:52:49.422054Z",
     "iopub.status.busy": "2022-11-10T15:52:49.421472Z",
     "iopub.status.idle": "2022-11-10T15:52:49.436145Z",
     "shell.execute_reply": "2022-11-10T15:52:49.434549Z",
     "shell.execute_reply.started": "2022-11-10T15:52:49.422009Z"
    }
   },
   "outputs": [],
   "source": [
    "data=pd.read_csv(\"/kaggle/input/titanic/train.csv\")"
   ]
  },
  {
   "cell_type": "code",
   "execution_count": 62,
   "metadata": {
    "execution": {
     "iopub.execute_input": "2022-11-10T15:52:49.609710Z",
     "iopub.status.busy": "2022-11-10T15:52:49.609097Z",
     "iopub.status.idle": "2022-11-10T15:52:49.620494Z",
     "shell.execute_reply": "2022-11-10T15:52:49.618562Z",
     "shell.execute_reply.started": "2022-11-10T15:52:49.609647Z"
    }
   },
   "outputs": [
    {
     "data": {
      "text/plain": [
       "(891, 12)"
      ]
     },
     "execution_count": 62,
     "metadata": {},
     "output_type": "execute_result"
    }
   ],
   "source": [
    "data.shape"
   ]
  },
  {
   "cell_type": "code",
   "execution_count": 63,
   "metadata": {
    "execution": {
     "iopub.execute_input": "2022-11-10T15:52:49.865836Z",
     "iopub.status.busy": "2022-11-10T15:52:49.864656Z",
     "iopub.status.idle": "2022-11-10T15:52:49.885695Z",
     "shell.execute_reply": "2022-11-10T15:52:49.884171Z",
     "shell.execute_reply.started": "2022-11-10T15:52:49.865785Z"
    }
   },
   "outputs": [
    {
     "data": {
      "text/html": [
       "<div>\n",
       "<style scoped>\n",
       "    .dataframe tbody tr th:only-of-type {\n",
       "        vertical-align: middle;\n",
       "    }\n",
       "\n",
       "    .dataframe tbody tr th {\n",
       "        vertical-align: top;\n",
       "    }\n",
       "\n",
       "    .dataframe thead th {\n",
       "        text-align: right;\n",
       "    }\n",
       "</style>\n",
       "<table border=\"1\" class=\"dataframe\">\n",
       "  <thead>\n",
       "    <tr style=\"text-align: right;\">\n",
       "      <th></th>\n",
       "      <th>PassengerId</th>\n",
       "      <th>Survived</th>\n",
       "      <th>Pclass</th>\n",
       "      <th>Name</th>\n",
       "      <th>Sex</th>\n",
       "      <th>Age</th>\n",
       "      <th>SibSp</th>\n",
       "      <th>Parch</th>\n",
       "      <th>Ticket</th>\n",
       "      <th>Fare</th>\n",
       "      <th>Cabin</th>\n",
       "      <th>Embarked</th>\n",
       "    </tr>\n",
       "  </thead>\n",
       "  <tbody>\n",
       "    <tr>\n",
       "      <th>0</th>\n",
       "      <td>1</td>\n",
       "      <td>0</td>\n",
       "      <td>3</td>\n",
       "      <td>Braund, Mr. Owen Harris</td>\n",
       "      <td>male</td>\n",
       "      <td>22.0</td>\n",
       "      <td>1</td>\n",
       "      <td>0</td>\n",
       "      <td>A/5 21171</td>\n",
       "      <td>7.2500</td>\n",
       "      <td>NaN</td>\n",
       "      <td>S</td>\n",
       "    </tr>\n",
       "    <tr>\n",
       "      <th>1</th>\n",
       "      <td>2</td>\n",
       "      <td>1</td>\n",
       "      <td>1</td>\n",
       "      <td>Cumings, Mrs. John Bradley (Florence Briggs Th...</td>\n",
       "      <td>female</td>\n",
       "      <td>38.0</td>\n",
       "      <td>1</td>\n",
       "      <td>0</td>\n",
       "      <td>PC 17599</td>\n",
       "      <td>71.2833</td>\n",
       "      <td>C85</td>\n",
       "      <td>C</td>\n",
       "    </tr>\n",
       "    <tr>\n",
       "      <th>2</th>\n",
       "      <td>3</td>\n",
       "      <td>1</td>\n",
       "      <td>3</td>\n",
       "      <td>Heikkinen, Miss. Laina</td>\n",
       "      <td>female</td>\n",
       "      <td>26.0</td>\n",
       "      <td>0</td>\n",
       "      <td>0</td>\n",
       "      <td>STON/O2. 3101282</td>\n",
       "      <td>7.9250</td>\n",
       "      <td>NaN</td>\n",
       "      <td>S</td>\n",
       "    </tr>\n",
       "    <tr>\n",
       "      <th>3</th>\n",
       "      <td>4</td>\n",
       "      <td>1</td>\n",
       "      <td>1</td>\n",
       "      <td>Futrelle, Mrs. Jacques Heath (Lily May Peel)</td>\n",
       "      <td>female</td>\n",
       "      <td>35.0</td>\n",
       "      <td>1</td>\n",
       "      <td>0</td>\n",
       "      <td>113803</td>\n",
       "      <td>53.1000</td>\n",
       "      <td>C123</td>\n",
       "      <td>S</td>\n",
       "    </tr>\n",
       "    <tr>\n",
       "      <th>4</th>\n",
       "      <td>5</td>\n",
       "      <td>0</td>\n",
       "      <td>3</td>\n",
       "      <td>Allen, Mr. William Henry</td>\n",
       "      <td>male</td>\n",
       "      <td>35.0</td>\n",
       "      <td>0</td>\n",
       "      <td>0</td>\n",
       "      <td>373450</td>\n",
       "      <td>8.0500</td>\n",
       "      <td>NaN</td>\n",
       "      <td>S</td>\n",
       "    </tr>\n",
       "  </tbody>\n",
       "</table>\n",
       "</div>"
      ],
      "text/plain": [
       "   PassengerId  Survived  Pclass  \\\n",
       "0            1         0       3   \n",
       "1            2         1       1   \n",
       "2            3         1       3   \n",
       "3            4         1       1   \n",
       "4            5         0       3   \n",
       "\n",
       "                                                Name     Sex   Age  SibSp  \\\n",
       "0                            Braund, Mr. Owen Harris    male  22.0      1   \n",
       "1  Cumings, Mrs. John Bradley (Florence Briggs Th...  female  38.0      1   \n",
       "2                             Heikkinen, Miss. Laina  female  26.0      0   \n",
       "3       Futrelle, Mrs. Jacques Heath (Lily May Peel)  female  35.0      1   \n",
       "4                           Allen, Mr. William Henry    male  35.0      0   \n",
       "\n",
       "   Parch            Ticket     Fare Cabin Embarked  \n",
       "0      0         A/5 21171   7.2500   NaN        S  \n",
       "1      0          PC 17599  71.2833   C85        C  \n",
       "2      0  STON/O2. 3101282   7.9250   NaN        S  \n",
       "3      0            113803  53.1000  C123        S  \n",
       "4      0            373450   8.0500   NaN        S  "
      ]
     },
     "execution_count": 63,
     "metadata": {},
     "output_type": "execute_result"
    }
   ],
   "source": [
    "data.head()"
   ]
  },
  {
   "cell_type": "code",
   "execution_count": 64,
   "metadata": {
    "execution": {
     "iopub.execute_input": "2022-11-10T15:52:50.463742Z",
     "iopub.status.busy": "2022-11-10T15:52:50.463240Z",
     "iopub.status.idle": "2022-11-10T15:52:50.483989Z",
     "shell.execute_reply": "2022-11-10T15:52:50.482613Z",
     "shell.execute_reply.started": "2022-11-10T15:52:50.463704Z"
    }
   },
   "outputs": [
    {
     "data": {
      "text/html": [
       "<div>\n",
       "<style scoped>\n",
       "    .dataframe tbody tr th:only-of-type {\n",
       "        vertical-align: middle;\n",
       "    }\n",
       "\n",
       "    .dataframe tbody tr th {\n",
       "        vertical-align: top;\n",
       "    }\n",
       "\n",
       "    .dataframe thead th {\n",
       "        text-align: right;\n",
       "    }\n",
       "</style>\n",
       "<table border=\"1\" class=\"dataframe\">\n",
       "  <thead>\n",
       "    <tr style=\"text-align: right;\">\n",
       "      <th></th>\n",
       "      <th>PassengerId</th>\n",
       "      <th>Survived</th>\n",
       "      <th>Pclass</th>\n",
       "      <th>Name</th>\n",
       "      <th>Sex</th>\n",
       "      <th>Age</th>\n",
       "      <th>SibSp</th>\n",
       "      <th>Parch</th>\n",
       "      <th>Ticket</th>\n",
       "      <th>Fare</th>\n",
       "      <th>Cabin</th>\n",
       "      <th>Embarked</th>\n",
       "    </tr>\n",
       "  </thead>\n",
       "  <tbody>\n",
       "    <tr>\n",
       "      <th>886</th>\n",
       "      <td>887</td>\n",
       "      <td>0</td>\n",
       "      <td>2</td>\n",
       "      <td>Montvila, Rev. Juozas</td>\n",
       "      <td>male</td>\n",
       "      <td>27.0</td>\n",
       "      <td>0</td>\n",
       "      <td>0</td>\n",
       "      <td>211536</td>\n",
       "      <td>13.00</td>\n",
       "      <td>NaN</td>\n",
       "      <td>S</td>\n",
       "    </tr>\n",
       "    <tr>\n",
       "      <th>887</th>\n",
       "      <td>888</td>\n",
       "      <td>1</td>\n",
       "      <td>1</td>\n",
       "      <td>Graham, Miss. Margaret Edith</td>\n",
       "      <td>female</td>\n",
       "      <td>19.0</td>\n",
       "      <td>0</td>\n",
       "      <td>0</td>\n",
       "      <td>112053</td>\n",
       "      <td>30.00</td>\n",
       "      <td>B42</td>\n",
       "      <td>S</td>\n",
       "    </tr>\n",
       "    <tr>\n",
       "      <th>888</th>\n",
       "      <td>889</td>\n",
       "      <td>0</td>\n",
       "      <td>3</td>\n",
       "      <td>Johnston, Miss. Catherine Helen \"Carrie\"</td>\n",
       "      <td>female</td>\n",
       "      <td>NaN</td>\n",
       "      <td>1</td>\n",
       "      <td>2</td>\n",
       "      <td>W./C. 6607</td>\n",
       "      <td>23.45</td>\n",
       "      <td>NaN</td>\n",
       "      <td>S</td>\n",
       "    </tr>\n",
       "    <tr>\n",
       "      <th>889</th>\n",
       "      <td>890</td>\n",
       "      <td>1</td>\n",
       "      <td>1</td>\n",
       "      <td>Behr, Mr. Karl Howell</td>\n",
       "      <td>male</td>\n",
       "      <td>26.0</td>\n",
       "      <td>0</td>\n",
       "      <td>0</td>\n",
       "      <td>111369</td>\n",
       "      <td>30.00</td>\n",
       "      <td>C148</td>\n",
       "      <td>C</td>\n",
       "    </tr>\n",
       "    <tr>\n",
       "      <th>890</th>\n",
       "      <td>891</td>\n",
       "      <td>0</td>\n",
       "      <td>3</td>\n",
       "      <td>Dooley, Mr. Patrick</td>\n",
       "      <td>male</td>\n",
       "      <td>32.0</td>\n",
       "      <td>0</td>\n",
       "      <td>0</td>\n",
       "      <td>370376</td>\n",
       "      <td>7.75</td>\n",
       "      <td>NaN</td>\n",
       "      <td>Q</td>\n",
       "    </tr>\n",
       "  </tbody>\n",
       "</table>\n",
       "</div>"
      ],
      "text/plain": [
       "     PassengerId  Survived  Pclass                                      Name  \\\n",
       "886          887         0       2                     Montvila, Rev. Juozas   \n",
       "887          888         1       1              Graham, Miss. Margaret Edith   \n",
       "888          889         0       3  Johnston, Miss. Catherine Helen \"Carrie\"   \n",
       "889          890         1       1                     Behr, Mr. Karl Howell   \n",
       "890          891         0       3                       Dooley, Mr. Patrick   \n",
       "\n",
       "        Sex   Age  SibSp  Parch      Ticket   Fare Cabin Embarked  \n",
       "886    male  27.0      0      0      211536  13.00   NaN        S  \n",
       "887  female  19.0      0      0      112053  30.00   B42        S  \n",
       "888  female   NaN      1      2  W./C. 6607  23.45   NaN        S  \n",
       "889    male  26.0      0      0      111369  30.00  C148        C  \n",
       "890    male  32.0      0      0      370376   7.75   NaN        Q  "
      ]
     },
     "execution_count": 64,
     "metadata": {},
     "output_type": "execute_result"
    }
   ],
   "source": [
    "data.tail()"
   ]
  },
  {
   "cell_type": "code",
   "execution_count": 65,
   "metadata": {
    "execution": {
     "iopub.execute_input": "2022-11-10T15:52:51.931317Z",
     "iopub.status.busy": "2022-11-10T15:52:51.930789Z",
     "iopub.status.idle": "2022-11-10T15:52:51.941200Z",
     "shell.execute_reply": "2022-11-10T15:52:51.939513Z",
     "shell.execute_reply.started": "2022-11-10T15:52:51.931280Z"
    }
   },
   "outputs": [
    {
     "data": {
      "text/plain": [
       "Index(['PassengerId', 'Survived', 'Pclass', 'Name', 'Sex', 'Age', 'SibSp',\n",
       "       'Parch', 'Ticket', 'Fare', 'Cabin', 'Embarked'],\n",
       "      dtype='object')"
      ]
     },
     "execution_count": 65,
     "metadata": {},
     "output_type": "execute_result"
    }
   ],
   "source": [
    "data.columns"
   ]
  },
  {
   "cell_type": "code",
   "execution_count": 66,
   "metadata": {
    "execution": {
     "iopub.execute_input": "2022-11-10T15:52:52.436361Z",
     "iopub.status.busy": "2022-11-10T15:52:52.435937Z",
     "iopub.status.idle": "2022-11-10T15:52:52.454756Z",
     "shell.execute_reply": "2022-11-10T15:52:52.453120Z",
     "shell.execute_reply.started": "2022-11-10T15:52:52.436326Z"
    }
   },
   "outputs": [
    {
     "data": {
      "text/plain": [
       "<bound method DataFrame.info of      PassengerId  Survived  Pclass  \\\n",
       "0              1         0       3   \n",
       "1              2         1       1   \n",
       "2              3         1       3   \n",
       "3              4         1       1   \n",
       "4              5         0       3   \n",
       "..           ...       ...     ...   \n",
       "886          887         0       2   \n",
       "887          888         1       1   \n",
       "888          889         0       3   \n",
       "889          890         1       1   \n",
       "890          891         0       3   \n",
       "\n",
       "                                                  Name     Sex   Age  SibSp  \\\n",
       "0                              Braund, Mr. Owen Harris    male  22.0      1   \n",
       "1    Cumings, Mrs. John Bradley (Florence Briggs Th...  female  38.0      1   \n",
       "2                               Heikkinen, Miss. Laina  female  26.0      0   \n",
       "3         Futrelle, Mrs. Jacques Heath (Lily May Peel)  female  35.0      1   \n",
       "4                             Allen, Mr. William Henry    male  35.0      0   \n",
       "..                                                 ...     ...   ...    ...   \n",
       "886                              Montvila, Rev. Juozas    male  27.0      0   \n",
       "887                       Graham, Miss. Margaret Edith  female  19.0      0   \n",
       "888           Johnston, Miss. Catherine Helen \"Carrie\"  female   NaN      1   \n",
       "889                              Behr, Mr. Karl Howell    male  26.0      0   \n",
       "890                                Dooley, Mr. Patrick    male  32.0      0   \n",
       "\n",
       "     Parch            Ticket     Fare Cabin Embarked  \n",
       "0        0         A/5 21171   7.2500   NaN        S  \n",
       "1        0          PC 17599  71.2833   C85        C  \n",
       "2        0  STON/O2. 3101282   7.9250   NaN        S  \n",
       "3        0            113803  53.1000  C123        S  \n",
       "4        0            373450   8.0500   NaN        S  \n",
       "..     ...               ...      ...   ...      ...  \n",
       "886      0            211536  13.0000   NaN        S  \n",
       "887      0            112053  30.0000   B42        S  \n",
       "888      2        W./C. 6607  23.4500   NaN        S  \n",
       "889      0            111369  30.0000  C148        C  \n",
       "890      0            370376   7.7500   NaN        Q  \n",
       "\n",
       "[891 rows x 12 columns]>"
      ]
     },
     "execution_count": 66,
     "metadata": {},
     "output_type": "execute_result"
    }
   ],
   "source": [
    "data.info"
   ]
  },
  {
   "cell_type": "code",
   "execution_count": 67,
   "metadata": {
    "execution": {
     "iopub.execute_input": "2022-11-10T15:52:53.464334Z",
     "iopub.status.busy": "2022-11-10T15:52:53.463934Z",
     "iopub.status.idle": "2022-11-10T15:52:53.508608Z",
     "shell.execute_reply": "2022-11-10T15:52:53.507318Z",
     "shell.execute_reply.started": "2022-11-10T15:52:53.464296Z"
    }
   },
   "outputs": [
    {
     "data": {
      "text/html": [
       "<div>\n",
       "<style scoped>\n",
       "    .dataframe tbody tr th:only-of-type {\n",
       "        vertical-align: middle;\n",
       "    }\n",
       "\n",
       "    .dataframe tbody tr th {\n",
       "        vertical-align: top;\n",
       "    }\n",
       "\n",
       "    .dataframe thead th {\n",
       "        text-align: right;\n",
       "    }\n",
       "</style>\n",
       "<table border=\"1\" class=\"dataframe\">\n",
       "  <thead>\n",
       "    <tr style=\"text-align: right;\">\n",
       "      <th></th>\n",
       "      <th>PassengerId</th>\n",
       "      <th>Survived</th>\n",
       "      <th>Pclass</th>\n",
       "      <th>Age</th>\n",
       "      <th>SibSp</th>\n",
       "      <th>Parch</th>\n",
       "      <th>Fare</th>\n",
       "    </tr>\n",
       "  </thead>\n",
       "  <tbody>\n",
       "    <tr>\n",
       "      <th>count</th>\n",
       "      <td>891.000000</td>\n",
       "      <td>891.000000</td>\n",
       "      <td>891.000000</td>\n",
       "      <td>714.000000</td>\n",
       "      <td>891.000000</td>\n",
       "      <td>891.000000</td>\n",
       "      <td>891.000000</td>\n",
       "    </tr>\n",
       "    <tr>\n",
       "      <th>mean</th>\n",
       "      <td>446.000000</td>\n",
       "      <td>0.383838</td>\n",
       "      <td>2.308642</td>\n",
       "      <td>29.699118</td>\n",
       "      <td>0.523008</td>\n",
       "      <td>0.381594</td>\n",
       "      <td>32.204208</td>\n",
       "    </tr>\n",
       "    <tr>\n",
       "      <th>std</th>\n",
       "      <td>257.353842</td>\n",
       "      <td>0.486592</td>\n",
       "      <td>0.836071</td>\n",
       "      <td>14.526497</td>\n",
       "      <td>1.102743</td>\n",
       "      <td>0.806057</td>\n",
       "      <td>49.693429</td>\n",
       "    </tr>\n",
       "    <tr>\n",
       "      <th>min</th>\n",
       "      <td>1.000000</td>\n",
       "      <td>0.000000</td>\n",
       "      <td>1.000000</td>\n",
       "      <td>0.420000</td>\n",
       "      <td>0.000000</td>\n",
       "      <td>0.000000</td>\n",
       "      <td>0.000000</td>\n",
       "    </tr>\n",
       "    <tr>\n",
       "      <th>25%</th>\n",
       "      <td>223.500000</td>\n",
       "      <td>0.000000</td>\n",
       "      <td>2.000000</td>\n",
       "      <td>20.125000</td>\n",
       "      <td>0.000000</td>\n",
       "      <td>0.000000</td>\n",
       "      <td>7.910400</td>\n",
       "    </tr>\n",
       "    <tr>\n",
       "      <th>50%</th>\n",
       "      <td>446.000000</td>\n",
       "      <td>0.000000</td>\n",
       "      <td>3.000000</td>\n",
       "      <td>28.000000</td>\n",
       "      <td>0.000000</td>\n",
       "      <td>0.000000</td>\n",
       "      <td>14.454200</td>\n",
       "    </tr>\n",
       "    <tr>\n",
       "      <th>75%</th>\n",
       "      <td>668.500000</td>\n",
       "      <td>1.000000</td>\n",
       "      <td>3.000000</td>\n",
       "      <td>38.000000</td>\n",
       "      <td>1.000000</td>\n",
       "      <td>0.000000</td>\n",
       "      <td>31.000000</td>\n",
       "    </tr>\n",
       "    <tr>\n",
       "      <th>max</th>\n",
       "      <td>891.000000</td>\n",
       "      <td>1.000000</td>\n",
       "      <td>3.000000</td>\n",
       "      <td>80.000000</td>\n",
       "      <td>8.000000</td>\n",
       "      <td>6.000000</td>\n",
       "      <td>512.329200</td>\n",
       "    </tr>\n",
       "  </tbody>\n",
       "</table>\n",
       "</div>"
      ],
      "text/plain": [
       "       PassengerId    Survived      Pclass         Age       SibSp  \\\n",
       "count   891.000000  891.000000  891.000000  714.000000  891.000000   \n",
       "mean    446.000000    0.383838    2.308642   29.699118    0.523008   \n",
       "std     257.353842    0.486592    0.836071   14.526497    1.102743   \n",
       "min       1.000000    0.000000    1.000000    0.420000    0.000000   \n",
       "25%     223.500000    0.000000    2.000000   20.125000    0.000000   \n",
       "50%     446.000000    0.000000    3.000000   28.000000    0.000000   \n",
       "75%     668.500000    1.000000    3.000000   38.000000    1.000000   \n",
       "max     891.000000    1.000000    3.000000   80.000000    8.000000   \n",
       "\n",
       "            Parch        Fare  \n",
       "count  891.000000  891.000000  \n",
       "mean     0.381594   32.204208  \n",
       "std      0.806057   49.693429  \n",
       "min      0.000000    0.000000  \n",
       "25%      0.000000    7.910400  \n",
       "50%      0.000000   14.454200  \n",
       "75%      0.000000   31.000000  \n",
       "max      6.000000  512.329200  "
      ]
     },
     "execution_count": 67,
     "metadata": {},
     "output_type": "execute_result"
    }
   ],
   "source": [
    "data.describe()"
   ]
  },
  {
   "cell_type": "code",
   "execution_count": 68,
   "metadata": {
    "execution": {
     "iopub.execute_input": "2022-11-10T15:52:54.112091Z",
     "iopub.status.busy": "2022-11-10T15:52:54.111575Z",
     "iopub.status.idle": "2022-11-10T15:52:54.171625Z",
     "shell.execute_reply": "2022-11-10T15:52:54.170641Z",
     "shell.execute_reply.started": "2022-11-10T15:52:54.112051Z"
    }
   },
   "outputs": [
    {
     "data": {
      "text/html": [
       "<div>\n",
       "<style scoped>\n",
       "    .dataframe tbody tr th:only-of-type {\n",
       "        vertical-align: middle;\n",
       "    }\n",
       "\n",
       "    .dataframe tbody tr th {\n",
       "        vertical-align: top;\n",
       "    }\n",
       "\n",
       "    .dataframe thead th {\n",
       "        text-align: right;\n",
       "    }\n",
       "</style>\n",
       "<table border=\"1\" class=\"dataframe\">\n",
       "  <thead>\n",
       "    <tr style=\"text-align: right;\">\n",
       "      <th></th>\n",
       "      <th>PassengerId</th>\n",
       "      <th>Survived</th>\n",
       "      <th>Pclass</th>\n",
       "      <th>Name</th>\n",
       "      <th>Sex</th>\n",
       "      <th>Age</th>\n",
       "      <th>SibSp</th>\n",
       "      <th>Parch</th>\n",
       "      <th>Ticket</th>\n",
       "      <th>Fare</th>\n",
       "      <th>Cabin</th>\n",
       "      <th>Embarked</th>\n",
       "    </tr>\n",
       "  </thead>\n",
       "  <tbody>\n",
       "    <tr>\n",
       "      <th>count</th>\n",
       "      <td>891.000000</td>\n",
       "      <td>891.000000</td>\n",
       "      <td>891.000000</td>\n",
       "      <td>891</td>\n",
       "      <td>891</td>\n",
       "      <td>714.000000</td>\n",
       "      <td>891.000000</td>\n",
       "      <td>891.000000</td>\n",
       "      <td>891</td>\n",
       "      <td>891.000000</td>\n",
       "      <td>204</td>\n",
       "      <td>889</td>\n",
       "    </tr>\n",
       "    <tr>\n",
       "      <th>unique</th>\n",
       "      <td>NaN</td>\n",
       "      <td>NaN</td>\n",
       "      <td>NaN</td>\n",
       "      <td>891</td>\n",
       "      <td>2</td>\n",
       "      <td>NaN</td>\n",
       "      <td>NaN</td>\n",
       "      <td>NaN</td>\n",
       "      <td>681</td>\n",
       "      <td>NaN</td>\n",
       "      <td>147</td>\n",
       "      <td>3</td>\n",
       "    </tr>\n",
       "    <tr>\n",
       "      <th>top</th>\n",
       "      <td>NaN</td>\n",
       "      <td>NaN</td>\n",
       "      <td>NaN</td>\n",
       "      <td>Braund, Mr. Owen Harris</td>\n",
       "      <td>male</td>\n",
       "      <td>NaN</td>\n",
       "      <td>NaN</td>\n",
       "      <td>NaN</td>\n",
       "      <td>347082</td>\n",
       "      <td>NaN</td>\n",
       "      <td>B96 B98</td>\n",
       "      <td>S</td>\n",
       "    </tr>\n",
       "    <tr>\n",
       "      <th>freq</th>\n",
       "      <td>NaN</td>\n",
       "      <td>NaN</td>\n",
       "      <td>NaN</td>\n",
       "      <td>1</td>\n",
       "      <td>577</td>\n",
       "      <td>NaN</td>\n",
       "      <td>NaN</td>\n",
       "      <td>NaN</td>\n",
       "      <td>7</td>\n",
       "      <td>NaN</td>\n",
       "      <td>4</td>\n",
       "      <td>644</td>\n",
       "    </tr>\n",
       "    <tr>\n",
       "      <th>mean</th>\n",
       "      <td>446.000000</td>\n",
       "      <td>0.383838</td>\n",
       "      <td>2.308642</td>\n",
       "      <td>NaN</td>\n",
       "      <td>NaN</td>\n",
       "      <td>29.699118</td>\n",
       "      <td>0.523008</td>\n",
       "      <td>0.381594</td>\n",
       "      <td>NaN</td>\n",
       "      <td>32.204208</td>\n",
       "      <td>NaN</td>\n",
       "      <td>NaN</td>\n",
       "    </tr>\n",
       "    <tr>\n",
       "      <th>std</th>\n",
       "      <td>257.353842</td>\n",
       "      <td>0.486592</td>\n",
       "      <td>0.836071</td>\n",
       "      <td>NaN</td>\n",
       "      <td>NaN</td>\n",
       "      <td>14.526497</td>\n",
       "      <td>1.102743</td>\n",
       "      <td>0.806057</td>\n",
       "      <td>NaN</td>\n",
       "      <td>49.693429</td>\n",
       "      <td>NaN</td>\n",
       "      <td>NaN</td>\n",
       "    </tr>\n",
       "    <tr>\n",
       "      <th>min</th>\n",
       "      <td>1.000000</td>\n",
       "      <td>0.000000</td>\n",
       "      <td>1.000000</td>\n",
       "      <td>NaN</td>\n",
       "      <td>NaN</td>\n",
       "      <td>0.420000</td>\n",
       "      <td>0.000000</td>\n",
       "      <td>0.000000</td>\n",
       "      <td>NaN</td>\n",
       "      <td>0.000000</td>\n",
       "      <td>NaN</td>\n",
       "      <td>NaN</td>\n",
       "    </tr>\n",
       "    <tr>\n",
       "      <th>25%</th>\n",
       "      <td>223.500000</td>\n",
       "      <td>0.000000</td>\n",
       "      <td>2.000000</td>\n",
       "      <td>NaN</td>\n",
       "      <td>NaN</td>\n",
       "      <td>20.125000</td>\n",
       "      <td>0.000000</td>\n",
       "      <td>0.000000</td>\n",
       "      <td>NaN</td>\n",
       "      <td>7.910400</td>\n",
       "      <td>NaN</td>\n",
       "      <td>NaN</td>\n",
       "    </tr>\n",
       "    <tr>\n",
       "      <th>50%</th>\n",
       "      <td>446.000000</td>\n",
       "      <td>0.000000</td>\n",
       "      <td>3.000000</td>\n",
       "      <td>NaN</td>\n",
       "      <td>NaN</td>\n",
       "      <td>28.000000</td>\n",
       "      <td>0.000000</td>\n",
       "      <td>0.000000</td>\n",
       "      <td>NaN</td>\n",
       "      <td>14.454200</td>\n",
       "      <td>NaN</td>\n",
       "      <td>NaN</td>\n",
       "    </tr>\n",
       "    <tr>\n",
       "      <th>75%</th>\n",
       "      <td>668.500000</td>\n",
       "      <td>1.000000</td>\n",
       "      <td>3.000000</td>\n",
       "      <td>NaN</td>\n",
       "      <td>NaN</td>\n",
       "      <td>38.000000</td>\n",
       "      <td>1.000000</td>\n",
       "      <td>0.000000</td>\n",
       "      <td>NaN</td>\n",
       "      <td>31.000000</td>\n",
       "      <td>NaN</td>\n",
       "      <td>NaN</td>\n",
       "    </tr>\n",
       "    <tr>\n",
       "      <th>max</th>\n",
       "      <td>891.000000</td>\n",
       "      <td>1.000000</td>\n",
       "      <td>3.000000</td>\n",
       "      <td>NaN</td>\n",
       "      <td>NaN</td>\n",
       "      <td>80.000000</td>\n",
       "      <td>8.000000</td>\n",
       "      <td>6.000000</td>\n",
       "      <td>NaN</td>\n",
       "      <td>512.329200</td>\n",
       "      <td>NaN</td>\n",
       "      <td>NaN</td>\n",
       "    </tr>\n",
       "  </tbody>\n",
       "</table>\n",
       "</div>"
      ],
      "text/plain": [
       "        PassengerId    Survived      Pclass                     Name   Sex  \\\n",
       "count    891.000000  891.000000  891.000000                      891   891   \n",
       "unique          NaN         NaN         NaN                      891     2   \n",
       "top             NaN         NaN         NaN  Braund, Mr. Owen Harris  male   \n",
       "freq            NaN         NaN         NaN                        1   577   \n",
       "mean     446.000000    0.383838    2.308642                      NaN   NaN   \n",
       "std      257.353842    0.486592    0.836071                      NaN   NaN   \n",
       "min        1.000000    0.000000    1.000000                      NaN   NaN   \n",
       "25%      223.500000    0.000000    2.000000                      NaN   NaN   \n",
       "50%      446.000000    0.000000    3.000000                      NaN   NaN   \n",
       "75%      668.500000    1.000000    3.000000                      NaN   NaN   \n",
       "max      891.000000    1.000000    3.000000                      NaN   NaN   \n",
       "\n",
       "               Age       SibSp       Parch  Ticket        Fare    Cabin  \\\n",
       "count   714.000000  891.000000  891.000000     891  891.000000      204   \n",
       "unique         NaN         NaN         NaN     681         NaN      147   \n",
       "top            NaN         NaN         NaN  347082         NaN  B96 B98   \n",
       "freq           NaN         NaN         NaN       7         NaN        4   \n",
       "mean     29.699118    0.523008    0.381594     NaN   32.204208      NaN   \n",
       "std      14.526497    1.102743    0.806057     NaN   49.693429      NaN   \n",
       "min       0.420000    0.000000    0.000000     NaN    0.000000      NaN   \n",
       "25%      20.125000    0.000000    0.000000     NaN    7.910400      NaN   \n",
       "50%      28.000000    0.000000    0.000000     NaN   14.454200      NaN   \n",
       "75%      38.000000    1.000000    0.000000     NaN   31.000000      NaN   \n",
       "max      80.000000    8.000000    6.000000     NaN  512.329200      NaN   \n",
       "\n",
       "       Embarked  \n",
       "count       889  \n",
       "unique        3  \n",
       "top           S  \n",
       "freq        644  \n",
       "mean        NaN  \n",
       "std         NaN  \n",
       "min         NaN  \n",
       "25%         NaN  \n",
       "50%         NaN  \n",
       "75%         NaN  \n",
       "max         NaN  "
      ]
     },
     "execution_count": 68,
     "metadata": {},
     "output_type": "execute_result"
    }
   ],
   "source": [
    "data.describe(include='all')"
   ]
  },
  {
   "cell_type": "code",
   "execution_count": 69,
   "metadata": {
    "execution": {
     "iopub.execute_input": "2022-11-10T15:52:54.695114Z",
     "iopub.status.busy": "2022-11-10T15:52:54.694680Z",
     "iopub.status.idle": "2022-11-10T15:52:54.708965Z",
     "shell.execute_reply": "2022-11-10T15:52:54.706979Z",
     "shell.execute_reply.started": "2022-11-10T15:52:54.695080Z"
    }
   },
   "outputs": [
    {
     "data": {
      "text/plain": [
       "PassengerId      int64\n",
       "Survived         int64\n",
       "Pclass           int64\n",
       "Name            object\n",
       "Sex             object\n",
       "Age            float64\n",
       "SibSp            int64\n",
       "Parch            int64\n",
       "Ticket          object\n",
       "Fare           float64\n",
       "Cabin           object\n",
       "Embarked        object\n",
       "dtype: object"
      ]
     },
     "execution_count": 69,
     "metadata": {},
     "output_type": "execute_result"
    }
   ],
   "source": [
    "data.dtypes"
   ]
  },
  {
   "cell_type": "code",
   "execution_count": 70,
   "metadata": {
    "execution": {
     "iopub.execute_input": "2022-11-10T15:52:55.549726Z",
     "iopub.status.busy": "2022-11-10T15:52:55.549354Z",
     "iopub.status.idle": "2022-11-10T15:52:55.560467Z",
     "shell.execute_reply": "2022-11-10T15:52:55.558895Z",
     "shell.execute_reply.started": "2022-11-10T15:52:55.549696Z"
    }
   },
   "outputs": [
    {
     "data": {
      "text/plain": [
       "0    61.616162\n",
       "1    38.383838\n",
       "Name: Survived, dtype: float64"
      ]
     },
     "execution_count": 70,
     "metadata": {},
     "output_type": "execute_result"
    }
   ],
   "source": [
    "data['Survived'].value_counts(normalize=True)*100"
   ]
  },
  {
   "cell_type": "markdown",
   "metadata": {},
   "source": [
    "### VISUALIZATIONS"
   ]
  },
  {
   "cell_type": "code",
   "execution_count": 71,
   "metadata": {
    "execution": {
     "iopub.execute_input": "2022-11-10T15:52:57.093499Z",
     "iopub.status.busy": "2022-11-10T15:52:57.089384Z",
     "iopub.status.idle": "2022-11-10T15:52:57.099437Z",
     "shell.execute_reply": "2022-11-10T15:52:57.097982Z",
     "shell.execute_reply.started": "2022-11-10T15:52:57.093425Z"
    }
   },
   "outputs": [],
   "source": [
    "import matplotlib.pyplot as plt\n",
    "import seaborn as sns"
   ]
  },
  {
   "cell_type": "code",
   "execution_count": 72,
   "metadata": {
    "execution": {
     "iopub.execute_input": "2022-11-10T15:52:58.261482Z",
     "iopub.status.busy": "2022-11-10T15:52:58.260911Z",
     "iopub.status.idle": "2022-11-10T15:52:58.541133Z",
     "shell.execute_reply": "2022-11-10T15:52:58.539608Z",
     "shell.execute_reply.started": "2022-11-10T15:52:58.261438Z"
    }
   },
   "outputs": [
    {
     "data": {
      "text/plain": [
       "Text(0.5, 1.0, 'Fare for each different age people')"
      ]
     },
     "execution_count": 72,
     "metadata": {},
     "output_type": "execute_result"
    },
    {
     "data": {
      "image/png": "[encoded data removed]",
      "text/plain": [
       "<Figure size 432x288 with 1 Axes>"
      ]
     },
     "metadata": {
      "needs_background": "light"
     },
     "output_type": "display_data"
    }
   ],
   "source": [
    "#Plot two numerical columns.\n",
    "plt.scatter(data[\"Age\"], data[\"Fare\"], color=\"green\")\n",
    "plt.ylabel(\"Fare\")\n",
    "plt.xlabel(\"Age\")\n",
    "plt.title(\"Fare for each different age people\")"
   ]
  },
  {
   "cell_type": "code",
   "execution_count": 73,
   "metadata": {
    "execution": {
     "iopub.execute_input": "2022-11-10T15:52:59.385163Z",
     "iopub.status.busy": "2022-11-10T15:52:59.384750Z",
     "iopub.status.idle": "2022-11-10T15:52:59.657552Z",
     "shell.execute_reply": "2022-11-10T15:52:59.656090Z",
     "shell.execute_reply.started": "2022-11-10T15:52:59.385130Z"
    }
   },
   "outputs": [
    {
     "data": {
      "text/plain": [
       "<AxesSubplot:xlabel='Pclass', ylabel='Fare'>"
      ]
     },
     "execution_count": 73,
     "metadata": {},
     "output_type": "execute_result"
    },
    {
     "data": {
      "image/png": "[encoded data removed]",
      "text/plain": [
       "<Figure size 432x288 with 1 Axes>"
      ]
     },
     "metadata": {
      "needs_background": "light"
     },
     "output_type": "display_data"
    }
   ],
   "source": [
    "#Plot one numerical and one categorical column.\n",
    "sns.barplot(data=data, x=\"Pclass\", y=\"Fare\", palette=\"Set2\")"
   ]
  },
  {
   "cell_type": "code",
   "execution_count": 75,
   "metadata": {
    "execution": {
     "iopub.execute_input": "2022-11-10T15:54:04.614699Z",
     "iopub.status.busy": "2022-11-10T15:54:04.614285Z",
     "iopub.status.idle": "2022-11-10T15:54:04.814315Z",
     "shell.execute_reply": "2022-11-10T15:54:04.813130Z",
     "shell.execute_reply.started": "2022-11-10T15:54:04.614656Z"
    }
   },
   "outputs": [
    {
     "data": {
      "text/plain": [
       "<AxesSubplot:xlabel='Pclass'>"
      ]
     },
     "execution_count": 75,
     "metadata": {},
     "output_type": "execute_result"
    },
    {
     "data": {
      "image/png": "[encoded data removed]",
      "text/plain": [
       "<Figure size 432x288 with 1 Axes>"
      ]
     },
     "metadata": {
      "needs_background": "light"
     },
     "output_type": "display_data"
    }
   ],
   "source": [
    "#Plot two numerical columns and one categorical column.\n",
    "data.plot(x=\"Pclass\", y=[\"Fare\", \"Age\"],style='o')"
   ]
  },
  {
   "cell_type": "code",
   "execution_count": 76,
   "metadata": {
    "execution": {
     "iopub.execute_input": "2022-11-10T15:54:05.719872Z",
     "iopub.status.busy": "2022-11-10T15:54:05.719104Z",
     "iopub.status.idle": "2022-11-10T15:54:05.740657Z",
     "shell.execute_reply": "2022-11-10T15:54:05.739558Z",
     "shell.execute_reply.started": "2022-11-10T15:54:05.719831Z"
    }
   },
   "outputs": [
    {
     "name": "stdout",
     "output_type": "stream",
     "text": [
      "891\n",
      "Braund, Mr. Owen Harris                     1\n",
      "Boulos, Mr. Hanna                           1\n",
      "Frolicher-Stehli, Mr. Maxmillian            1\n",
      "Gilinski, Mr. Eliezer                       1\n",
      "Murdlin, Mr. Joseph                         1\n",
      "                                           ..\n",
      "Kelly, Miss. Anna Katherine \"Annie Kate\"    1\n",
      "McCoy, Mr. Bernard                          1\n",
      "Johnson, Mr. William Cahoone Jr             1\n",
      "Keane, Miss. Nora A                         1\n",
      "Dooley, Mr. Patrick                         1\n",
      "Name: Name, Length: 891, dtype: int64\n",
      "2\n",
      "male      577\n",
      "female    314\n",
      "Name: Sex, dtype: int64\n",
      "681\n",
      "347082      7\n",
      "CA. 2343    7\n",
      "1601        7\n",
      "3101295     6\n",
      "CA 2144     6\n",
      "           ..\n",
      "9234        1\n",
      "19988       1\n",
      "2693        1\n",
      "PC 17612    1\n",
      "370376      1\n",
      "Name: Ticket, Length: 681, dtype: int64\n",
      "147\n",
      "B96 B98        4\n",
      "G6             4\n",
      "C23 C25 C27    4\n",
      "C22 C26        3\n",
      "F33            3\n",
      "              ..\n",
      "E34            1\n",
      "C7             1\n",
      "C54            1\n",
      "E36            1\n",
      "C148           1\n",
      "Name: Cabin, Length: 147, dtype: int64\n",
      "3\n",
      "S    644\n",
      "C    168\n",
      "Q     77\n",
      "Name: Embarked, dtype: int64\n"
     ]
    }
   ],
   "source": [
    "obj_attr=data.select_dtypes('object').columns\n",
    "for i in obj_attr:\n",
    "  print(data[i].nunique())\n",
    "  print(data[i].value_counts())"
   ]
  },
  {
   "cell_type": "code",
   "execution_count": 77,
   "metadata": {
    "execution": {
     "iopub.execute_input": "2022-11-10T15:54:06.123433Z",
     "iopub.status.busy": "2022-11-10T15:54:06.122710Z",
     "iopub.status.idle": "2022-11-10T15:54:06.129686Z",
     "shell.execute_reply": "2022-11-10T15:54:06.128669Z",
     "shell.execute_reply.started": "2022-11-10T15:54:06.123392Z"
    }
   },
   "outputs": [],
   "source": [
    "id = data['PassengerId']\n",
    "data.drop(columns=['PassengerId','Name','Ticket','Cabin'], inplace=True)"
   ]
  },
  {
   "cell_type": "code",
   "execution_count": 78,
   "metadata": {
    "execution": {
     "iopub.execute_input": "2022-11-10T15:54:06.422472Z",
     "iopub.status.busy": "2022-11-10T15:54:06.421765Z",
     "iopub.status.idle": "2022-11-10T15:54:06.433327Z",
     "shell.execute_reply": "2022-11-10T15:54:06.431827Z",
     "shell.execute_reply.started": "2022-11-10T15:54:06.422433Z"
    }
   },
   "outputs": [
    {
     "data": {
      "text/plain": [
       "Survived      0\n",
       "Pclass        0\n",
       "Sex           0\n",
       "Age         177\n",
       "SibSp         0\n",
       "Parch         0\n",
       "Fare          0\n",
       "Embarked      2\n",
       "dtype: int64"
      ]
     },
     "execution_count": 78,
     "metadata": {},
     "output_type": "execute_result"
    }
   ],
   "source": [
    "#Check null values in a column.\n",
    "data.isnull().sum()"
   ]
  },
  {
   "cell_type": "code",
   "execution_count": 79,
   "metadata": {
    "execution": {
     "iopub.execute_input": "2022-11-10T15:54:06.672796Z",
     "iopub.status.busy": "2022-11-10T15:54:06.672158Z",
     "iopub.status.idle": "2022-11-10T15:54:06.683210Z",
     "shell.execute_reply": "2022-11-10T15:54:06.681095Z",
     "shell.execute_reply.started": "2022-11-10T15:54:06.672734Z"
    }
   },
   "outputs": [],
   "source": [
    "data['Age'].fillna(data['Age'].mean(), inplace=True)\n",
    "data['Embarked'].fillna(data['Embarked'].mode()[0],inplace=True)"
   ]
  },
  {
   "cell_type": "code",
   "execution_count": 80,
   "metadata": {
    "execution": {
     "iopub.execute_input": "2022-11-10T15:54:06.873121Z",
     "iopub.status.busy": "2022-11-10T15:54:06.872687Z",
     "iopub.status.idle": "2022-11-10T15:54:06.885599Z",
     "shell.execute_reply": "2022-11-10T15:54:06.884349Z",
     "shell.execute_reply.started": "2022-11-10T15:54:06.873084Z"
    }
   },
   "outputs": [
    {
     "data": {
      "text/plain": [
       "Survived    0\n",
       "Pclass      0\n",
       "Sex         0\n",
       "Age         0\n",
       "SibSp       0\n",
       "Parch       0\n",
       "Fare        0\n",
       "Embarked    0\n",
       "dtype: int64"
      ]
     },
     "execution_count": 80,
     "metadata": {},
     "output_type": "execute_result"
    }
   ],
   "source": [
    "data.isnull().sum()"
   ]
  },
  {
   "cell_type": "code",
   "execution_count": 81,
   "metadata": {
    "execution": {
     "iopub.execute_input": "2022-11-10T15:54:07.049694Z",
     "iopub.status.busy": "2022-11-10T15:54:07.049250Z",
     "iopub.status.idle": "2022-11-10T15:54:07.061352Z",
     "shell.execute_reply": "2022-11-10T15:54:07.059829Z",
     "shell.execute_reply.started": "2022-11-10T15:54:07.049658Z"
    }
   },
   "outputs": [],
   "source": [
    "data= pd.get_dummies(data=data, columns=['Pclass','Sex'], drop_first=False)"
   ]
  },
  {
   "cell_type": "code",
   "execution_count": 82,
   "metadata": {
    "execution": {
     "iopub.execute_input": "2022-11-10T15:54:07.258933Z",
     "iopub.status.busy": "2022-11-10T15:54:07.258478Z",
     "iopub.status.idle": "2022-11-10T15:54:07.276808Z",
     "shell.execute_reply": "2022-11-10T15:54:07.275512Z",
     "shell.execute_reply.started": "2022-11-10T15:54:07.258896Z"
    }
   },
   "outputs": [
    {
     "data": {
      "text/html": [
       "<div>\n",
       "<style scoped>\n",
       "    .dataframe tbody tr th:only-of-type {\n",
       "        vertical-align: middle;\n",
       "    }\n",
       "\n",
       "    .dataframe tbody tr th {\n",
       "        vertical-align: top;\n",
       "    }\n",
       "\n",
       "    .dataframe thead th {\n",
       "        text-align: right;\n",
       "    }\n",
       "</style>\n",
       "<table border=\"1\" class=\"dataframe\">\n",
       "  <thead>\n",
       "    <tr style=\"text-align: right;\">\n",
       "      <th></th>\n",
       "      <th>Survived</th>\n",
       "      <th>Age</th>\n",
       "      <th>SibSp</th>\n",
       "      <th>Parch</th>\n",
       "      <th>Fare</th>\n",
       "      <th>Embarked</th>\n",
       "      <th>Pclass_1</th>\n",
       "      <th>Pclass_2</th>\n",
       "      <th>Pclass_3</th>\n",
       "      <th>Sex_female</th>\n",
       "      <th>Sex_male</th>\n",
       "    </tr>\n",
       "  </thead>\n",
       "  <tbody>\n",
       "    <tr>\n",
       "      <th>0</th>\n",
       "      <td>0</td>\n",
       "      <td>22.0</td>\n",
       "      <td>1</td>\n",
       "      <td>0</td>\n",
       "      <td>7.2500</td>\n",
       "      <td>S</td>\n",
       "      <td>0</td>\n",
       "      <td>0</td>\n",
       "      <td>1</td>\n",
       "      <td>0</td>\n",
       "      <td>1</td>\n",
       "    </tr>\n",
       "    <tr>\n",
       "      <th>1</th>\n",
       "      <td>1</td>\n",
       "      <td>38.0</td>\n",
       "      <td>1</td>\n",
       "      <td>0</td>\n",
       "      <td>71.2833</td>\n",
       "      <td>C</td>\n",
       "      <td>1</td>\n",
       "      <td>0</td>\n",
       "      <td>0</td>\n",
       "      <td>1</td>\n",
       "      <td>0</td>\n",
       "    </tr>\n",
       "    <tr>\n",
       "      <th>2</th>\n",
       "      <td>1</td>\n",
       "      <td>26.0</td>\n",
       "      <td>0</td>\n",
       "      <td>0</td>\n",
       "      <td>7.9250</td>\n",
       "      <td>S</td>\n",
       "      <td>0</td>\n",
       "      <td>0</td>\n",
       "      <td>1</td>\n",
       "      <td>1</td>\n",
       "      <td>0</td>\n",
       "    </tr>\n",
       "    <tr>\n",
       "      <th>3</th>\n",
       "      <td>1</td>\n",
       "      <td>35.0</td>\n",
       "      <td>1</td>\n",
       "      <td>0</td>\n",
       "      <td>53.1000</td>\n",
       "      <td>S</td>\n",
       "      <td>1</td>\n",
       "      <td>0</td>\n",
       "      <td>0</td>\n",
       "      <td>1</td>\n",
       "      <td>0</td>\n",
       "    </tr>\n",
       "    <tr>\n",
       "      <th>4</th>\n",
       "      <td>0</td>\n",
       "      <td>35.0</td>\n",
       "      <td>0</td>\n",
       "      <td>0</td>\n",
       "      <td>8.0500</td>\n",
       "      <td>S</td>\n",
       "      <td>0</td>\n",
       "      <td>0</td>\n",
       "      <td>1</td>\n",
       "      <td>0</td>\n",
       "      <td>1</td>\n",
       "    </tr>\n",
       "  </tbody>\n",
       "</table>\n",
       "</div>"
      ],
      "text/plain": [
       "   Survived   Age  SibSp  Parch     Fare Embarked  Pclass_1  Pclass_2  \\\n",
       "0         0  22.0      1      0   7.2500        S         0         0   \n",
       "1         1  38.0      1      0  71.2833        C         1         0   \n",
       "2         1  26.0      0      0   7.9250        S         0         0   \n",
       "3         1  35.0      1      0  53.1000        S         1         0   \n",
       "4         0  35.0      0      0   8.0500        S         0         0   \n",
       "\n",
       "   Pclass_3  Sex_female  Sex_male  \n",
       "0         1           0         1  \n",
       "1         0           1         0  \n",
       "2         1           1         0  \n",
       "3         0           1         0  \n",
       "4         1           0         1  "
      ]
     },
     "execution_count": 82,
     "metadata": {},
     "output_type": "execute_result"
    }
   ],
   "source": [
    "data.head()"
   ]
  },
  {
   "cell_type": "code",
   "execution_count": 88,
   "metadata": {
    "execution": {
     "iopub.execute_input": "2022-11-10T16:04:07.514641Z",
     "iopub.status.busy": "2022-11-10T16:04:07.513185Z",
     "iopub.status.idle": "2022-11-10T16:04:28.870403Z",
     "shell.execute_reply": "2022-11-10T16:04:28.869215Z",
     "shell.execute_reply.started": "2022-11-10T16:04:07.514576Z"
    }
   },
   "outputs": [],
   "source": [
    "df1=pd.read_csv(\"/kaggle/input/amex-default-prediction/train_data.csv\",nrows=200000)\n",
    "df2=pd.read_csv(\"/kaggle/input/amex-default-prediction/train_labels.csv\",nrows=200000)"
   ]
  },
  {
   "cell_type": "code",
   "execution_count": 86,
   "metadata": {
    "execution": {
     "iopub.execute_input": "2022-11-10T16:00:41.868898Z",
     "iopub.status.busy": "2022-11-10T16:00:41.865050Z",
     "iopub.status.idle": "2022-11-10T16:00:41.877959Z",
     "shell.execute_reply": "2022-11-10T16:00:41.876817Z",
     "shell.execute_reply.started": "2022-11-10T16:00:41.868842Z"
    }
   },
   "outputs": [
    {
     "data": {
      "text/plain": [
       "Index(['customer_id', 'name', 'age', 'gender', 'owns_car', 'owns_house',\n",
       "       'no_of_children', 'net_yearly_income', 'no_of_days_employed',\n",
       "       'occupation_type', 'total_family_members', 'migrant_worker',\n",
       "       'yearly_debt_payments', 'credit_limit', 'credit_limit_used(%)',\n",
       "       'credit_score', 'prev_defaults', 'default_in_last_6months',\n",
       "       'credit_card_default'],\n",
       "      dtype='object')"
      ]
     },
     "execution_count": 86,
     "metadata": {},
     "output_type": "execute_result"
    }
   ],
   "source": [
    "df1.columns"
   ]
  },
  {
   "cell_type": "code",
   "execution_count": 89,
   "metadata": {
    "execution": {
     "iopub.execute_input": "2022-11-10T16:04:40.661159Z",
     "iopub.status.busy": "2022-11-10T16:04:40.660783Z",
     "iopub.status.idle": "2022-11-10T16:04:40.668327Z",
     "shell.execute_reply": "2022-11-10T16:04:40.667332Z",
     "shell.execute_reply.started": "2022-11-10T16:04:40.661130Z"
    }
   },
   "outputs": [
    {
     "data": {
      "text/plain": [
       "Index(['customer_ID', 'target'], dtype='object')"
      ]
     },
     "execution_count": 89,
     "metadata": {},
     "output_type": "execute_result"
    }
   ],
   "source": [
    "df2.columns"
   ]
  },
  {
   "cell_type": "code",
   "execution_count": 90,
   "metadata": {
    "execution": {
     "iopub.execute_input": "2022-11-10T16:04:43.688997Z",
     "iopub.status.busy": "2022-11-10T16:04:43.688507Z",
     "iopub.status.idle": "2022-11-10T16:04:43.697290Z",
     "shell.execute_reply": "2022-11-10T16:04:43.695520Z",
     "shell.execute_reply.started": "2022-11-10T16:04:43.688957Z"
    }
   },
   "outputs": [
    {
     "data": {
      "text/plain": [
       "(200000, 190)"
      ]
     },
     "execution_count": 90,
     "metadata": {},
     "output_type": "execute_result"
    }
   ],
   "source": [
    "df1.shape"
   ]
  },
  {
   "cell_type": "code",
   "execution_count": 91,
   "metadata": {
    "execution": {
     "iopub.execute_input": "2022-11-10T16:04:55.326230Z",
     "iopub.status.busy": "2022-11-10T16:04:55.325468Z",
     "iopub.status.idle": "2022-11-10T16:04:55.334108Z",
     "shell.execute_reply": "2022-11-10T16:04:55.332962Z",
     "shell.execute_reply.started": "2022-11-10T16:04:55.326183Z"
    }
   },
   "outputs": [
    {
     "data": {
      "text/plain": [
       "(200000, 2)"
      ]
     },
     "execution_count": 91,
     "metadata": {},
     "output_type": "execute_result"
    }
   ],
   "source": [
    "df2.shape"
   ]
  },
  {
   "cell_type": "code",
   "execution_count": 93,
   "metadata": {
    "execution": {
     "iopub.execute_input": "2022-11-10T16:05:26.724175Z",
     "iopub.status.busy": "2022-11-10T16:05:26.723855Z",
     "iopub.status.idle": "2022-11-10T16:05:26.750537Z",
     "shell.execute_reply": "2022-11-10T16:05:26.749141Z",
     "shell.execute_reply.started": "2022-11-10T16:05:26.724147Z"
    }
   },
   "outputs": [
    {
     "data": {
      "text/html": [
       "<div>\n",
       "<style scoped>\n",
       "    .dataframe tbody tr th:only-of-type {\n",
       "        vertical-align: middle;\n",
       "    }\n",
       "\n",
       "    .dataframe tbody tr th {\n",
       "        vertical-align: top;\n",
       "    }\n",
       "\n",
       "    .dataframe thead th {\n",
       "        text-align: right;\n",
       "    }\n",
       "</style>\n",
       "<table border=\"1\" class=\"dataframe\">\n",
       "  <thead>\n",
       "    <tr style=\"text-align: right;\">\n",
       "      <th></th>\n",
       "      <th>customer_ID</th>\n",
       "      <th>S_2</th>\n",
       "      <th>P_2</th>\n",
       "      <th>D_39</th>\n",
       "      <th>B_1</th>\n",
       "      <th>B_2</th>\n",
       "      <th>R_1</th>\n",
       "      <th>S_3</th>\n",
       "      <th>D_41</th>\n",
       "      <th>B_3</th>\n",
       "      <th>...</th>\n",
       "      <th>D_136</th>\n",
       "      <th>D_137</th>\n",
       "      <th>D_138</th>\n",
       "      <th>D_139</th>\n",
       "      <th>D_140</th>\n",
       "      <th>D_141</th>\n",
       "      <th>D_142</th>\n",
       "      <th>D_143</th>\n",
       "      <th>D_144</th>\n",
       "      <th>D_145</th>\n",
       "    </tr>\n",
       "  </thead>\n",
       "  <tbody>\n",
       "    <tr>\n",
       "      <th>0</th>\n",
       "      <td>0000099d6bd597052cdcda90ffabf56573fe9d7c79be5f...</td>\n",
       "      <td>2017-03-09</td>\n",
       "      <td>0.938469</td>\n",
       "      <td>0.001733</td>\n",
       "      <td>0.008724</td>\n",
       "      <td>1.006838</td>\n",
       "      <td>0.009228</td>\n",
       "      <td>0.124035</td>\n",
       "      <td>0.008771</td>\n",
       "      <td>0.004709</td>\n",
       "      <td>...</td>\n",
       "      <td>NaN</td>\n",
       "      <td>NaN</td>\n",
       "      <td>NaN</td>\n",
       "      <td>0.002427</td>\n",
       "      <td>0.003706</td>\n",
       "      <td>0.003818</td>\n",
       "      <td>NaN</td>\n",
       "      <td>0.000569</td>\n",
       "      <td>0.000610</td>\n",
       "      <td>0.002674</td>\n",
       "    </tr>\n",
       "    <tr>\n",
       "      <th>1</th>\n",
       "      <td>0000099d6bd597052cdcda90ffabf56573fe9d7c79be5f...</td>\n",
       "      <td>2017-04-07</td>\n",
       "      <td>0.936665</td>\n",
       "      <td>0.005775</td>\n",
       "      <td>0.004923</td>\n",
       "      <td>1.000653</td>\n",
       "      <td>0.006151</td>\n",
       "      <td>0.126750</td>\n",
       "      <td>0.000798</td>\n",
       "      <td>0.002714</td>\n",
       "      <td>...</td>\n",
       "      <td>NaN</td>\n",
       "      <td>NaN</td>\n",
       "      <td>NaN</td>\n",
       "      <td>0.003954</td>\n",
       "      <td>0.003167</td>\n",
       "      <td>0.005032</td>\n",
       "      <td>NaN</td>\n",
       "      <td>0.009576</td>\n",
       "      <td>0.005492</td>\n",
       "      <td>0.009217</td>\n",
       "    </tr>\n",
       "    <tr>\n",
       "      <th>2</th>\n",
       "      <td>0000099d6bd597052cdcda90ffabf56573fe9d7c79be5f...</td>\n",
       "      <td>2017-05-28</td>\n",
       "      <td>0.954180</td>\n",
       "      <td>0.091505</td>\n",
       "      <td>0.021655</td>\n",
       "      <td>1.009672</td>\n",
       "      <td>0.006815</td>\n",
       "      <td>0.123977</td>\n",
       "      <td>0.007598</td>\n",
       "      <td>0.009423</td>\n",
       "      <td>...</td>\n",
       "      <td>NaN</td>\n",
       "      <td>NaN</td>\n",
       "      <td>NaN</td>\n",
       "      <td>0.003269</td>\n",
       "      <td>0.007329</td>\n",
       "      <td>0.000427</td>\n",
       "      <td>NaN</td>\n",
       "      <td>0.003429</td>\n",
       "      <td>0.006986</td>\n",
       "      <td>0.002603</td>\n",
       "    </tr>\n",
       "    <tr>\n",
       "      <th>3</th>\n",
       "      <td>0000099d6bd597052cdcda90ffabf56573fe9d7c79be5f...</td>\n",
       "      <td>2017-06-13</td>\n",
       "      <td>0.960384</td>\n",
       "      <td>0.002455</td>\n",
       "      <td>0.013683</td>\n",
       "      <td>1.002700</td>\n",
       "      <td>0.001373</td>\n",
       "      <td>0.117169</td>\n",
       "      <td>0.000685</td>\n",
       "      <td>0.005531</td>\n",
       "      <td>...</td>\n",
       "      <td>NaN</td>\n",
       "      <td>NaN</td>\n",
       "      <td>NaN</td>\n",
       "      <td>0.006117</td>\n",
       "      <td>0.004516</td>\n",
       "      <td>0.003200</td>\n",
       "      <td>NaN</td>\n",
       "      <td>0.008419</td>\n",
       "      <td>0.006527</td>\n",
       "      <td>0.009600</td>\n",
       "    </tr>\n",
       "    <tr>\n",
       "      <th>4</th>\n",
       "      <td>0000099d6bd597052cdcda90ffabf56573fe9d7c79be5f...</td>\n",
       "      <td>2017-07-16</td>\n",
       "      <td>0.947248</td>\n",
       "      <td>0.002483</td>\n",
       "      <td>0.015193</td>\n",
       "      <td>1.000727</td>\n",
       "      <td>0.007605</td>\n",
       "      <td>0.117325</td>\n",
       "      <td>0.004653</td>\n",
       "      <td>0.009312</td>\n",
       "      <td>...</td>\n",
       "      <td>NaN</td>\n",
       "      <td>NaN</td>\n",
       "      <td>NaN</td>\n",
       "      <td>0.003671</td>\n",
       "      <td>0.004946</td>\n",
       "      <td>0.008889</td>\n",
       "      <td>NaN</td>\n",
       "      <td>0.001670</td>\n",
       "      <td>0.008126</td>\n",
       "      <td>0.009827</td>\n",
       "    </tr>\n",
       "  </tbody>\n",
       "</table>\n",
       "<p>5 rows × 190 columns</p>\n",
       "</div>"
      ],
      "text/plain": [
       "                                         customer_ID         S_2       P_2  \\\n",
       "0  0000099d6bd597052cdcda90ffabf56573fe9d7c79be5f...  2017-03-09  0.938469   \n",
       "1  0000099d6bd597052cdcda90ffabf56573fe9d7c79be5f...  2017-04-07  0.936665   \n",
       "2  0000099d6bd597052cdcda90ffabf56573fe9d7c79be5f...  2017-05-28  0.954180   \n",
       "3  0000099d6bd597052cdcda90ffabf56573fe9d7c79be5f...  2017-06-13  0.960384   \n",
       "4  0000099d6bd597052cdcda90ffabf56573fe9d7c79be5f...  2017-07-16  0.947248   \n",
       "\n",
       "       D_39       B_1       B_2       R_1       S_3      D_41       B_3  ...  \\\n",
       "0  0.001733  0.008724  1.006838  0.009228  0.124035  0.008771  0.004709  ...   \n",
       "1  0.005775  0.004923  1.000653  0.006151  0.126750  0.000798  0.002714  ...   \n",
       "2  0.091505  0.021655  1.009672  0.006815  0.123977  0.007598  0.009423  ...   \n",
       "3  0.002455  0.013683  1.002700  0.001373  0.117169  0.000685  0.005531  ...   \n",
       "4  0.002483  0.015193  1.000727  0.007605  0.117325  0.004653  0.009312  ...   \n",
       "\n",
       "   D_136  D_137  D_138     D_139     D_140     D_141  D_142     D_143  \\\n",
       "0    NaN    NaN    NaN  0.002427  0.003706  0.003818    NaN  0.000569   \n",
       "1    NaN    NaN    NaN  0.003954  0.003167  0.005032    NaN  0.009576   \n",
       "2    NaN    NaN    NaN  0.003269  0.007329  0.000427    NaN  0.003429   \n",
       "3    NaN    NaN    NaN  0.006117  0.004516  0.003200    NaN  0.008419   \n",
       "4    NaN    NaN    NaN  0.003671  0.004946  0.008889    NaN  0.001670   \n",
       "\n",
       "      D_144     D_145  \n",
       "0  0.000610  0.002674  \n",
       "1  0.005492  0.009217  \n",
       "2  0.006986  0.002603  \n",
       "3  0.006527  0.009600  \n",
       "4  0.008126  0.009827  \n",
       "\n",
       "[5 rows x 190 columns]"
      ]
     },
     "execution_count": 93,
     "metadata": {},
     "output_type": "execute_result"
    }
   ],
   "source": [
    "df1.head()"
   ]
  },
  {
   "cell_type": "code",
   "execution_count": 94,
   "metadata": {
    "execution": {
     "iopub.execute_input": "2022-11-10T16:05:40.707629Z",
     "iopub.status.busy": "2022-11-10T16:05:40.707243Z",
     "iopub.status.idle": "2022-11-10T16:05:40.718137Z",
     "shell.execute_reply": "2022-11-10T16:05:40.717019Z",
     "shell.execute_reply.started": "2022-11-10T16:05:40.707596Z"
    }
   },
   "outputs": [
    {
     "data": {
      "text/html": [
       "<div>\n",
       "<style scoped>\n",
       "    .dataframe tbody tr th:only-of-type {\n",
       "        vertical-align: middle;\n",
       "    }\n",
       "\n",
       "    .dataframe tbody tr th {\n",
       "        vertical-align: top;\n",
       "    }\n",
       "\n",
       "    .dataframe thead th {\n",
       "        text-align: right;\n",
       "    }\n",
       "</style>\n",
       "<table border=\"1\" class=\"dataframe\">\n",
       "  <thead>\n",
       "    <tr style=\"text-align: right;\">\n",
       "      <th></th>\n",
       "      <th>customer_ID</th>\n",
       "      <th>target</th>\n",
       "    </tr>\n",
       "  </thead>\n",
       "  <tbody>\n",
       "    <tr>\n",
       "      <th>0</th>\n",
       "      <td>0000099d6bd597052cdcda90ffabf56573fe9d7c79be5f...</td>\n",
       "      <td>0</td>\n",
       "    </tr>\n",
       "    <tr>\n",
       "      <th>1</th>\n",
       "      <td>00000fd6641609c6ece5454664794f0340ad84dddce9a2...</td>\n",
       "      <td>0</td>\n",
       "    </tr>\n",
       "    <tr>\n",
       "      <th>2</th>\n",
       "      <td>00001b22f846c82c51f6e3958ccd81970162bae8b007e8...</td>\n",
       "      <td>0</td>\n",
       "    </tr>\n",
       "    <tr>\n",
       "      <th>3</th>\n",
       "      <td>000041bdba6ecadd89a52d11886e8eaaec9325906c9723...</td>\n",
       "      <td>0</td>\n",
       "    </tr>\n",
       "    <tr>\n",
       "      <th>4</th>\n",
       "      <td>00007889e4fcd2614b6cbe7f8f3d2e5c728eca32d9eb8a...</td>\n",
       "      <td>0</td>\n",
       "    </tr>\n",
       "  </tbody>\n",
       "</table>\n",
       "</div>"
      ],
      "text/plain": [
       "                                         customer_ID  target\n",
       "0  0000099d6bd597052cdcda90ffabf56573fe9d7c79be5f...       0\n",
       "1  00000fd6641609c6ece5454664794f0340ad84dddce9a2...       0\n",
       "2  00001b22f846c82c51f6e3958ccd81970162bae8b007e8...       0\n",
       "3  000041bdba6ecadd89a52d11886e8eaaec9325906c9723...       0\n",
       "4  00007889e4fcd2614b6cbe7f8f3d2e5c728eca32d9eb8a...       0"
      ]
     },
     "execution_count": 94,
     "metadata": {},
     "output_type": "execute_result"
    }
   ],
   "source": [
    "df2.head()"
   ]
  },
  {
   "cell_type": "code",
   "execution_count": 95,
   "metadata": {
    "execution": {
     "iopub.execute_input": "2022-11-10T16:06:09.449189Z",
     "iopub.status.busy": "2022-11-10T16:06:09.448800Z",
     "iopub.status.idle": "2022-11-10T16:06:10.227401Z",
     "shell.execute_reply": "2022-11-10T16:06:10.225736Z",
     "shell.execute_reply.started": "2022-11-10T16:06:09.449159Z"
    }
   },
   "outputs": [],
   "source": [
    "train_data=pd.merge(df1,df2)"
   ]
  },
  {
   "cell_type": "code",
   "execution_count": 97,
   "metadata": {
    "execution": {
     "iopub.execute_input": "2022-11-10T16:06:39.658129Z",
     "iopub.status.busy": "2022-11-10T16:06:39.657713Z",
     "iopub.status.idle": "2022-11-10T16:06:39.665167Z",
     "shell.execute_reply": "2022-11-10T16:06:39.664016Z",
     "shell.execute_reply.started": "2022-11-10T16:06:39.658096Z"
    }
   },
   "outputs": [
    {
     "data": {
      "text/plain": [
       "(200000, 191)"
      ]
     },
     "execution_count": 97,
     "metadata": {},
     "output_type": "execute_result"
    }
   ],
   "source": [
    "train_data.shape"
   ]
  },
  {
   "cell_type": "code",
   "execution_count": 98,
   "metadata": {
    "execution": {
     "iopub.execute_input": "2022-11-10T16:06:54.103703Z",
     "iopub.status.busy": "2022-11-10T16:06:54.103348Z",
     "iopub.status.idle": "2022-11-10T16:06:56.184625Z",
     "shell.execute_reply": "2022-11-10T16:06:56.183405Z",
     "shell.execute_reply.started": "2022-11-10T16:06:54.103672Z"
    }
   },
   "outputs": [
    {
     "data": {
      "text/html": [
       "<div>\n",
       "<style scoped>\n",
       "    .dataframe tbody tr th:only-of-type {\n",
       "        vertical-align: middle;\n",
       "    }\n",
       "\n",
       "    .dataframe tbody tr th {\n",
       "        vertical-align: top;\n",
       "    }\n",
       "\n",
       "    .dataframe thead th {\n",
       "        text-align: right;\n",
       "    }\n",
       "</style>\n",
       "<table border=\"1\" class=\"dataframe\">\n",
       "  <thead>\n",
       "    <tr style=\"text-align: right;\">\n",
       "      <th></th>\n",
       "      <th>P_2</th>\n",
       "      <th>D_39</th>\n",
       "      <th>B_1</th>\n",
       "      <th>B_2</th>\n",
       "      <th>R_1</th>\n",
       "      <th>S_3</th>\n",
       "      <th>D_41</th>\n",
       "      <th>B_3</th>\n",
       "      <th>D_42</th>\n",
       "      <th>D_43</th>\n",
       "      <th>...</th>\n",
       "      <th>D_137</th>\n",
       "      <th>D_138</th>\n",
       "      <th>D_139</th>\n",
       "      <th>D_140</th>\n",
       "      <th>D_141</th>\n",
       "      <th>D_142</th>\n",
       "      <th>D_143</th>\n",
       "      <th>D_144</th>\n",
       "      <th>D_145</th>\n",
       "      <th>target</th>\n",
       "    </tr>\n",
       "  </thead>\n",
       "  <tbody>\n",
       "    <tr>\n",
       "      <th>count</th>\n",
       "      <td>198458.000000</td>\n",
       "      <td>2.000000e+05</td>\n",
       "      <td>200000.000000</td>\n",
       "      <td>199928.000000</td>\n",
       "      <td>2.000000e+05</td>\n",
       "      <td>162335.000000</td>\n",
       "      <td>1.999280e+05</td>\n",
       "      <td>1.999280e+05</td>\n",
       "      <td>29193.000000</td>\n",
       "      <td>1.399420e+05</td>\n",
       "      <td>...</td>\n",
       "      <td>7.186000e+03</td>\n",
       "      <td>7186.000000</td>\n",
       "      <td>1.964970e+05</td>\n",
       "      <td>1.985810e+05</td>\n",
       "      <td>1.964970e+05</td>\n",
       "      <td>34356.000000</td>\n",
       "      <td>1.964970e+05</td>\n",
       "      <td>1.985670e+05</td>\n",
       "      <td>1.964970e+05</td>\n",
       "      <td>200000.000000</td>\n",
       "    </tr>\n",
       "    <tr>\n",
       "      <th>mean</th>\n",
       "      <td>0.653527</td>\n",
       "      <td>1.534126e-01</td>\n",
       "      <td>0.125356</td>\n",
       "      <td>0.616971</td>\n",
       "      <td>8.121541e-02</td>\n",
       "      <td>0.227386</td>\n",
       "      <td>6.221769e-02</td>\n",
       "      <td>1.343925e-01</td>\n",
       "      <td>0.181170</td>\n",
       "      <td>1.560354e-01</td>\n",
       "      <td>...</td>\n",
       "      <td>1.424359e-02</td>\n",
       "      <td>0.162349</td>\n",
       "      <td>1.798358e-01</td>\n",
       "      <td>2.622542e-02</td>\n",
       "      <td>1.653822e-01</td>\n",
       "      <td>0.392596</td>\n",
       "      <td>1.797362e-01</td>\n",
       "      <td>5.339187e-02</td>\n",
       "      <td>6.179908e-02</td>\n",
       "      <td>0.253395</td>\n",
       "    </tr>\n",
       "    <tr>\n",
       "      <th>std</th>\n",
       "      <td>0.246135</td>\n",
       "      <td>2.723813e-01</td>\n",
       "      <td>0.213396</td>\n",
       "      <td>0.402275</td>\n",
       "      <td>2.309947e-01</td>\n",
       "      <td>0.197101</td>\n",
       "      <td>2.081621e-01</td>\n",
       "      <td>2.348492e-01</td>\n",
       "      <td>0.216851</td>\n",
       "      <td>2.169740e-01</td>\n",
       "      <td>...</td>\n",
       "      <td>9.543979e-02</td>\n",
       "      <td>0.258647</td>\n",
       "      <td>3.798505e-01</td>\n",
       "      <td>1.441568e-01</td>\n",
       "      <td>3.490555e-01</td>\n",
       "      <td>0.238923</td>\n",
       "      <td>3.797464e-01</td>\n",
       "      <td>1.851044e-01</td>\n",
       "      <td>1.901802e-01</td>\n",
       "      <td>0.434956</td>\n",
       "    </tr>\n",
       "    <tr>\n",
       "      <th>min</th>\n",
       "      <td>-0.383019</td>\n",
       "      <td>3.892609e-07</td>\n",
       "      <td>-0.899396</td>\n",
       "      <td>0.000003</td>\n",
       "      <td>2.962930e-08</td>\n",
       "      <td>-0.254707</td>\n",
       "      <td>5.627163e-08</td>\n",
       "      <td>1.042180e-07</td>\n",
       "      <td>-0.000219</td>\n",
       "      <td>8.705647e-07</td>\n",
       "      <td>...</td>\n",
       "      <td>4.129697e-08</td>\n",
       "      <td>0.000002</td>\n",
       "      <td>7.139375e-08</td>\n",
       "      <td>5.277736e-08</td>\n",
       "      <td>5.642931e-08</td>\n",
       "      <td>-0.014441</td>\n",
       "      <td>1.653580e-08</td>\n",
       "      <td>1.161969e-07</td>\n",
       "      <td>3.397747e-08</td>\n",
       "      <td>0.000000</td>\n",
       "    </tr>\n",
       "    <tr>\n",
       "      <th>25%</th>\n",
       "      <td>0.476334</td>\n",
       "      <td>4.541390e-03</td>\n",
       "      <td>0.008858</td>\n",
       "      <td>0.100550</td>\n",
       "      <td>2.899612e-03</td>\n",
       "      <td>0.127432</td>\n",
       "      <td>2.897833e-03</td>\n",
       "      <td>5.290730e-03</td>\n",
       "      <td>0.039449</td>\n",
       "      <td>4.235285e-02</td>\n",
       "      <td>...</td>\n",
       "      <td>2.589397e-03</td>\n",
       "      <td>0.003541</td>\n",
       "      <td>3.018427e-03</td>\n",
       "      <td>2.551375e-03</td>\n",
       "      <td>3.033245e-03</td>\n",
       "      <td>0.196174</td>\n",
       "      <td>3.034162e-03</td>\n",
       "      <td>2.752575e-03</td>\n",
       "      <td>3.027842e-03</td>\n",
       "      <td>0.000000</td>\n",
       "    </tr>\n",
       "    <tr>\n",
       "      <th>50%</th>\n",
       "      <td>0.691541</td>\n",
       "      <td>9.066380e-03</td>\n",
       "      <td>0.031935</td>\n",
       "      <td>0.814164</td>\n",
       "      <td>5.792558e-03</td>\n",
       "      <td>0.164248</td>\n",
       "      <td>5.768750e-03</td>\n",
       "      <td>9.872834e-03</td>\n",
       "      <td>0.120749</td>\n",
       "      <td>8.828850e-02</td>\n",
       "      <td>...</td>\n",
       "      <td>5.141117e-03</td>\n",
       "      <td>0.007028</td>\n",
       "      <td>6.041458e-03</td>\n",
       "      <td>5.109293e-03</td>\n",
       "      <td>6.062756e-03</td>\n",
       "      <td>0.382038</td>\n",
       "      <td>6.077791e-03</td>\n",
       "      <td>5.499113e-03</td>\n",
       "      <td>6.059988e-03</td>\n",
       "      <td>0.000000</td>\n",
       "    </tr>\n",
       "    <tr>\n",
       "      <th>75%</th>\n",
       "      <td>0.863455</td>\n",
       "      <td>2.360171e-01</td>\n",
       "      <td>0.129569</td>\n",
       "      <td>1.002240</td>\n",
       "      <td>8.684554e-03</td>\n",
       "      <td>0.260202</td>\n",
       "      <td>8.652639e-03</td>\n",
       "      <td>1.635911e-01</td>\n",
       "      <td>0.250728</td>\n",
       "      <td>1.850985e-01</td>\n",
       "      <td>...</td>\n",
       "      <td>7.667529e-03</td>\n",
       "      <td>0.501621</td>\n",
       "      <td>9.096570e-03</td>\n",
       "      <td>7.658175e-03</td>\n",
       "      <td>9.094362e-03</td>\n",
       "      <td>0.566102</td>\n",
       "      <td>9.088631e-03</td>\n",
       "      <td>8.267479e-03</td>\n",
       "      <td>9.093526e-03</td>\n",
       "      <td>1.000000</td>\n",
       "    </tr>\n",
       "    <tr>\n",
       "      <th>max</th>\n",
       "      <td>1.009998</td>\n",
       "      <td>5.331360e+00</td>\n",
       "      <td>1.324053</td>\n",
       "      <td>1.010000</td>\n",
       "      <td>2.507711e+00</td>\n",
       "      <td>2.918675</td>\n",
       "      <td>6.798167e+00</td>\n",
       "      <td>1.625262e+00</td>\n",
       "      <td>3.252056</td>\n",
       "      <td>9.089694e+00</td>\n",
       "      <td>...</td>\n",
       "      <td>1.009913e+00</td>\n",
       "      <td>1.509486</td>\n",
       "      <td>1.010000e+00</td>\n",
       "      <td>1.009994e+00</td>\n",
       "      <td>1.174753e+00</td>\n",
       "      <td>1.751388</td>\n",
       "      <td>1.010000e+00</td>\n",
       "      <td>1.343284e+00</td>\n",
       "      <td>4.282032e+00</td>\n",
       "      <td>1.000000</td>\n",
       "    </tr>\n",
       "  </tbody>\n",
       "</table>\n",
       "<p>8 rows × 187 columns</p>\n",
       "</div>"
      ],
      "text/plain": [
       "                 P_2          D_39            B_1            B_2  \\\n",
       "count  198458.000000  2.000000e+05  200000.000000  199928.000000   \n",
       "mean        0.653527  1.534126e-01       0.125356       0.616971   \n",
       "std         0.246135  2.723813e-01       0.213396       0.402275   \n",
       "min        -0.383019  3.892609e-07      -0.899396       0.000003   \n",
       "25%         0.476334  4.541390e-03       0.008858       0.100550   \n",
       "50%         0.691541  9.066380e-03       0.031935       0.814164   \n",
       "75%         0.863455  2.360171e-01       0.129569       1.002240   \n",
       "max         1.009998  5.331360e+00       1.324053       1.010000   \n",
       "\n",
       "                R_1            S_3          D_41           B_3          D_42  \\\n",
       "count  2.000000e+05  162335.000000  1.999280e+05  1.999280e+05  29193.000000   \n",
       "mean   8.121541e-02       0.227386  6.221769e-02  1.343925e-01      0.181170   \n",
       "std    2.309947e-01       0.197101  2.081621e-01  2.348492e-01      0.216851   \n",
       "min    2.962930e-08      -0.254707  5.627163e-08  1.042180e-07     -0.000219   \n",
       "25%    2.899612e-03       0.127432  2.897833e-03  5.290730e-03      0.039449   \n",
       "50%    5.792558e-03       0.164248  5.768750e-03  9.872834e-03      0.120749   \n",
       "75%    8.684554e-03       0.260202  8.652639e-03  1.635911e-01      0.250728   \n",
       "max    2.507711e+00       2.918675  6.798167e+00  1.625262e+00      3.252056   \n",
       "\n",
       "               D_43  ...         D_137        D_138         D_139  \\\n",
       "count  1.399420e+05  ...  7.186000e+03  7186.000000  1.964970e+05   \n",
       "mean   1.560354e-01  ...  1.424359e-02     0.162349  1.798358e-01   \n",
       "std    2.169740e-01  ...  9.543979e-02     0.258647  3.798505e-01   \n",
       "min    8.705647e-07  ...  4.129697e-08     0.000002  7.139375e-08   \n",
       "25%    4.235285e-02  ...  2.589397e-03     0.003541  3.018427e-03   \n",
       "50%    8.828850e-02  ...  5.141117e-03     0.007028  6.041458e-03   \n",
       "75%    1.850985e-01  ...  7.667529e-03     0.501621  9.096570e-03   \n",
       "max    9.089694e+00  ...  1.009913e+00     1.509486  1.010000e+00   \n",
       "\n",
       "              D_140         D_141         D_142         D_143         D_144  \\\n",
       "count  1.985810e+05  1.964970e+05  34356.000000  1.964970e+05  1.985670e+05   \n",
       "mean   2.622542e-02  1.653822e-01      0.392596  1.797362e-01  5.339187e-02   \n",
       "std    1.441568e-01  3.490555e-01      0.238923  3.797464e-01  1.851044e-01   \n",
       "min    5.277736e-08  5.642931e-08     -0.014441  1.653580e-08  1.161969e-07   \n",
       "25%    2.551375e-03  3.033245e-03      0.196174  3.034162e-03  2.752575e-03   \n",
       "50%    5.109293e-03  6.062756e-03      0.382038  6.077791e-03  5.499113e-03   \n",
       "75%    7.658175e-03  9.094362e-03      0.566102  9.088631e-03  8.267479e-03   \n",
       "max    1.009994e+00  1.174753e+00      1.751388  1.010000e+00  1.343284e+00   \n",
       "\n",
       "              D_145         target  \n",
       "count  1.964970e+05  200000.000000  \n",
       "mean   6.179908e-02       0.253395  \n",
       "std    1.901802e-01       0.434956  \n",
       "min    3.397747e-08       0.000000  \n",
       "25%    3.027842e-03       0.000000  \n",
       "50%    6.059988e-03       0.000000  \n",
       "75%    9.093526e-03       1.000000  \n",
       "max    4.282032e+00       1.000000  \n",
       "\n",
       "[8 rows x 187 columns]"
      ]
     },
     "execution_count": 98,
     "metadata": {},
     "output_type": "execute_result"
    }
   ],
   "source": [
    "train_data.describe()"
   ]
  },
  {
   "cell_type": "code",
   "execution_count": 99,
   "metadata": {
    "execution": {
     "iopub.execute_input": "2022-11-10T16:07:10.977597Z",
     "iopub.status.busy": "2022-11-10T16:07:10.977223Z",
     "iopub.status.idle": "2022-11-10T16:07:13.068477Z",
     "shell.execute_reply": "2022-11-10T16:07:13.067263Z",
     "shell.execute_reply.started": "2022-11-10T16:07:10.977565Z"
    }
   },
   "outputs": [
    {
     "data": {
      "text/html": [
       "<div>\n",
       "<style scoped>\n",
       "    .dataframe tbody tr th:only-of-type {\n",
       "        vertical-align: middle;\n",
       "    }\n",
       "\n",
       "    .dataframe tbody tr th {\n",
       "        vertical-align: top;\n",
       "    }\n",
       "\n",
       "    .dataframe thead th {\n",
       "        text-align: right;\n",
       "    }\n",
       "</style>\n",
       "<table border=\"1\" class=\"dataframe\">\n",
       "  <thead>\n",
       "    <tr style=\"text-align: right;\">\n",
       "      <th></th>\n",
       "      <th>customer_ID</th>\n",
       "      <th>S_2</th>\n",
       "      <th>P_2</th>\n",
       "      <th>D_39</th>\n",
       "      <th>B_1</th>\n",
       "      <th>B_2</th>\n",
       "      <th>R_1</th>\n",
       "      <th>S_3</th>\n",
       "      <th>D_41</th>\n",
       "      <th>B_3</th>\n",
       "      <th>...</th>\n",
       "      <th>D_137</th>\n",
       "      <th>D_138</th>\n",
       "      <th>D_139</th>\n",
       "      <th>D_140</th>\n",
       "      <th>D_141</th>\n",
       "      <th>D_142</th>\n",
       "      <th>D_143</th>\n",
       "      <th>D_144</th>\n",
       "      <th>D_145</th>\n",
       "      <th>target</th>\n",
       "    </tr>\n",
       "  </thead>\n",
       "  <tbody>\n",
       "    <tr>\n",
       "      <th>count</th>\n",
       "      <td>200000</td>\n",
       "      <td>200000</td>\n",
       "      <td>198458.000000</td>\n",
       "      <td>2.000000e+05</td>\n",
       "      <td>200000.000000</td>\n",
       "      <td>199928.000000</td>\n",
       "      <td>2.000000e+05</td>\n",
       "      <td>162335.000000</td>\n",
       "      <td>1.999280e+05</td>\n",
       "      <td>1.999280e+05</td>\n",
       "      <td>...</td>\n",
       "      <td>7.186000e+03</td>\n",
       "      <td>7186.000000</td>\n",
       "      <td>1.964970e+05</td>\n",
       "      <td>1.985810e+05</td>\n",
       "      <td>1.964970e+05</td>\n",
       "      <td>34356.000000</td>\n",
       "      <td>1.964970e+05</td>\n",
       "      <td>1.985670e+05</td>\n",
       "      <td>1.964970e+05</td>\n",
       "      <td>200000.000000</td>\n",
       "    </tr>\n",
       "    <tr>\n",
       "      <th>unique</th>\n",
       "      <td>16576</td>\n",
       "      <td>396</td>\n",
       "      <td>NaN</td>\n",
       "      <td>NaN</td>\n",
       "      <td>NaN</td>\n",
       "      <td>NaN</td>\n",
       "      <td>NaN</td>\n",
       "      <td>NaN</td>\n",
       "      <td>NaN</td>\n",
       "      <td>NaN</td>\n",
       "      <td>...</td>\n",
       "      <td>NaN</td>\n",
       "      <td>NaN</td>\n",
       "      <td>NaN</td>\n",
       "      <td>NaN</td>\n",
       "      <td>NaN</td>\n",
       "      <td>NaN</td>\n",
       "      <td>NaN</td>\n",
       "      <td>NaN</td>\n",
       "      <td>NaN</td>\n",
       "      <td>NaN</td>\n",
       "    </tr>\n",
       "    <tr>\n",
       "      <th>top</th>\n",
       "      <td>0000099d6bd597052cdcda90ffabf56573fe9d7c79be5f...</td>\n",
       "      <td>2018-02-17</td>\n",
       "      <td>NaN</td>\n",
       "      <td>NaN</td>\n",
       "      <td>NaN</td>\n",
       "      <td>NaN</td>\n",
       "      <td>NaN</td>\n",
       "      <td>NaN</td>\n",
       "      <td>NaN</td>\n",
       "      <td>NaN</td>\n",
       "      <td>...</td>\n",
       "      <td>NaN</td>\n",
       "      <td>NaN</td>\n",
       "      <td>NaN</td>\n",
       "      <td>NaN</td>\n",
       "      <td>NaN</td>\n",
       "      <td>NaN</td>\n",
       "      <td>NaN</td>\n",
       "      <td>NaN</td>\n",
       "      <td>NaN</td>\n",
       "      <td>NaN</td>\n",
       "    </tr>\n",
       "    <tr>\n",
       "      <th>freq</th>\n",
       "      <td>13</td>\n",
       "      <td>933</td>\n",
       "      <td>NaN</td>\n",
       "      <td>NaN</td>\n",
       "      <td>NaN</td>\n",
       "      <td>NaN</td>\n",
       "      <td>NaN</td>\n",
       "      <td>NaN</td>\n",
       "      <td>NaN</td>\n",
       "      <td>NaN</td>\n",
       "      <td>...</td>\n",
       "      <td>NaN</td>\n",
       "      <td>NaN</td>\n",
       "      <td>NaN</td>\n",
       "      <td>NaN</td>\n",
       "      <td>NaN</td>\n",
       "      <td>NaN</td>\n",
       "      <td>NaN</td>\n",
       "      <td>NaN</td>\n",
       "      <td>NaN</td>\n",
       "      <td>NaN</td>\n",
       "    </tr>\n",
       "    <tr>\n",
       "      <th>mean</th>\n",
       "      <td>NaN</td>\n",
       "      <td>NaN</td>\n",
       "      <td>0.653527</td>\n",
       "      <td>1.534126e-01</td>\n",
       "      <td>0.125356</td>\n",
       "      <td>0.616971</td>\n",
       "      <td>8.121541e-02</td>\n",
       "      <td>0.227386</td>\n",
       "      <td>6.221769e-02</td>\n",
       "      <td>1.343925e-01</td>\n",
       "      <td>...</td>\n",
       "      <td>1.424359e-02</td>\n",
       "      <td>0.162349</td>\n",
       "      <td>1.798358e-01</td>\n",
       "      <td>2.622542e-02</td>\n",
       "      <td>1.653822e-01</td>\n",
       "      <td>0.392596</td>\n",
       "      <td>1.797362e-01</td>\n",
       "      <td>5.339187e-02</td>\n",
       "      <td>6.179908e-02</td>\n",
       "      <td>0.253395</td>\n",
       "    </tr>\n",
       "    <tr>\n",
       "      <th>std</th>\n",
       "      <td>NaN</td>\n",
       "      <td>NaN</td>\n",
       "      <td>0.246135</td>\n",
       "      <td>2.723813e-01</td>\n",
       "      <td>0.213396</td>\n",
       "      <td>0.402275</td>\n",
       "      <td>2.309947e-01</td>\n",
       "      <td>0.197101</td>\n",
       "      <td>2.081621e-01</td>\n",
       "      <td>2.348492e-01</td>\n",
       "      <td>...</td>\n",
       "      <td>9.543979e-02</td>\n",
       "      <td>0.258647</td>\n",
       "      <td>3.798505e-01</td>\n",
       "      <td>1.441568e-01</td>\n",
       "      <td>3.490555e-01</td>\n",
       "      <td>0.238923</td>\n",
       "      <td>3.797464e-01</td>\n",
       "      <td>1.851044e-01</td>\n",
       "      <td>1.901802e-01</td>\n",
       "      <td>0.434956</td>\n",
       "    </tr>\n",
       "    <tr>\n",
       "      <th>min</th>\n",
       "      <td>NaN</td>\n",
       "      <td>NaN</td>\n",
       "      <td>-0.383019</td>\n",
       "      <td>3.892609e-07</td>\n",
       "      <td>-0.899396</td>\n",
       "      <td>0.000003</td>\n",
       "      <td>2.962930e-08</td>\n",
       "      <td>-0.254707</td>\n",
       "      <td>5.627163e-08</td>\n",
       "      <td>1.042180e-07</td>\n",
       "      <td>...</td>\n",
       "      <td>4.129697e-08</td>\n",
       "      <td>0.000002</td>\n",
       "      <td>7.139375e-08</td>\n",
       "      <td>5.277736e-08</td>\n",
       "      <td>5.642931e-08</td>\n",
       "      <td>-0.014441</td>\n",
       "      <td>1.653580e-08</td>\n",
       "      <td>1.161969e-07</td>\n",
       "      <td>3.397747e-08</td>\n",
       "      <td>0.000000</td>\n",
       "    </tr>\n",
       "    <tr>\n",
       "      <th>25%</th>\n",
       "      <td>NaN</td>\n",
       "      <td>NaN</td>\n",
       "      <td>0.476334</td>\n",
       "      <td>4.541390e-03</td>\n",
       "      <td>0.008858</td>\n",
       "      <td>0.100550</td>\n",
       "      <td>2.899612e-03</td>\n",
       "      <td>0.127432</td>\n",
       "      <td>2.897833e-03</td>\n",
       "      <td>5.290730e-03</td>\n",
       "      <td>...</td>\n",
       "      <td>2.589397e-03</td>\n",
       "      <td>0.003541</td>\n",
       "      <td>3.018427e-03</td>\n",
       "      <td>2.551375e-03</td>\n",
       "      <td>3.033245e-03</td>\n",
       "      <td>0.196174</td>\n",
       "      <td>3.034162e-03</td>\n",
       "      <td>2.752575e-03</td>\n",
       "      <td>3.027842e-03</td>\n",
       "      <td>0.000000</td>\n",
       "    </tr>\n",
       "    <tr>\n",
       "      <th>50%</th>\n",
       "      <td>NaN</td>\n",
       "      <td>NaN</td>\n",
       "      <td>0.691541</td>\n",
       "      <td>9.066380e-03</td>\n",
       "      <td>0.031935</td>\n",
       "      <td>0.814164</td>\n",
       "      <td>5.792558e-03</td>\n",
       "      <td>0.164248</td>\n",
       "      <td>5.768750e-03</td>\n",
       "      <td>9.872834e-03</td>\n",
       "      <td>...</td>\n",
       "      <td>5.141117e-03</td>\n",
       "      <td>0.007028</td>\n",
       "      <td>6.041458e-03</td>\n",
       "      <td>5.109293e-03</td>\n",
       "      <td>6.062756e-03</td>\n",
       "      <td>0.382038</td>\n",
       "      <td>6.077791e-03</td>\n",
       "      <td>5.499113e-03</td>\n",
       "      <td>6.059988e-03</td>\n",
       "      <td>0.000000</td>\n",
       "    </tr>\n",
       "    <tr>\n",
       "      <th>75%</th>\n",
       "      <td>NaN</td>\n",
       "      <td>NaN</td>\n",
       "      <td>0.863455</td>\n",
       "      <td>2.360171e-01</td>\n",
       "      <td>0.129569</td>\n",
       "      <td>1.002240</td>\n",
       "      <td>8.684554e-03</td>\n",
       "      <td>0.260202</td>\n",
       "      <td>8.652639e-03</td>\n",
       "      <td>1.635911e-01</td>\n",
       "      <td>...</td>\n",
       "      <td>7.667529e-03</td>\n",
       "      <td>0.501621</td>\n",
       "      <td>9.096570e-03</td>\n",
       "      <td>7.658175e-03</td>\n",
       "      <td>9.094362e-03</td>\n",
       "      <td>0.566102</td>\n",
       "      <td>9.088631e-03</td>\n",
       "      <td>8.267479e-03</td>\n",
       "      <td>9.093526e-03</td>\n",
       "      <td>1.000000</td>\n",
       "    </tr>\n",
       "    <tr>\n",
       "      <th>max</th>\n",
       "      <td>NaN</td>\n",
       "      <td>NaN</td>\n",
       "      <td>1.009998</td>\n",
       "      <td>5.331360e+00</td>\n",
       "      <td>1.324053</td>\n",
       "      <td>1.010000</td>\n",
       "      <td>2.507711e+00</td>\n",
       "      <td>2.918675</td>\n",
       "      <td>6.798167e+00</td>\n",
       "      <td>1.625262e+00</td>\n",
       "      <td>...</td>\n",
       "      <td>1.009913e+00</td>\n",
       "      <td>1.509486</td>\n",
       "      <td>1.010000e+00</td>\n",
       "      <td>1.009994e+00</td>\n",
       "      <td>1.174753e+00</td>\n",
       "      <td>1.751388</td>\n",
       "      <td>1.010000e+00</td>\n",
       "      <td>1.343284e+00</td>\n",
       "      <td>4.282032e+00</td>\n",
       "      <td>1.000000</td>\n",
       "    </tr>\n",
       "  </tbody>\n",
       "</table>\n",
       "<p>11 rows × 191 columns</p>\n",
       "</div>"
      ],
      "text/plain": [
       "                                              customer_ID         S_2  \\\n",
       "count                                              200000      200000   \n",
       "unique                                              16576         396   \n",
       "top     0000099d6bd597052cdcda90ffabf56573fe9d7c79be5f...  2018-02-17   \n",
       "freq                                                   13         933   \n",
       "mean                                                  NaN         NaN   \n",
       "std                                                   NaN         NaN   \n",
       "min                                                   NaN         NaN   \n",
       "25%                                                   NaN         NaN   \n",
       "50%                                                   NaN         NaN   \n",
       "75%                                                   NaN         NaN   \n",
       "max                                                   NaN         NaN   \n",
       "\n",
       "                  P_2          D_39            B_1            B_2  \\\n",
       "count   198458.000000  2.000000e+05  200000.000000  199928.000000   \n",
       "unique            NaN           NaN            NaN            NaN   \n",
       "top               NaN           NaN            NaN            NaN   \n",
       "freq              NaN           NaN            NaN            NaN   \n",
       "mean         0.653527  1.534126e-01       0.125356       0.616971   \n",
       "std          0.246135  2.723813e-01       0.213396       0.402275   \n",
       "min         -0.383019  3.892609e-07      -0.899396       0.000003   \n",
       "25%          0.476334  4.541390e-03       0.008858       0.100550   \n",
       "50%          0.691541  9.066380e-03       0.031935       0.814164   \n",
       "75%          0.863455  2.360171e-01       0.129569       1.002240   \n",
       "max          1.009998  5.331360e+00       1.324053       1.010000   \n",
       "\n",
       "                 R_1            S_3          D_41           B_3  ...  \\\n",
       "count   2.000000e+05  162335.000000  1.999280e+05  1.999280e+05  ...   \n",
       "unique           NaN            NaN           NaN           NaN  ...   \n",
       "top              NaN            NaN           NaN           NaN  ...   \n",
       "freq             NaN            NaN           NaN           NaN  ...   \n",
       "mean    8.121541e-02       0.227386  6.221769e-02  1.343925e-01  ...   \n",
       "std     2.309947e-01       0.197101  2.081621e-01  2.348492e-01  ...   \n",
       "min     2.962930e-08      -0.254707  5.627163e-08  1.042180e-07  ...   \n",
       "25%     2.899612e-03       0.127432  2.897833e-03  5.290730e-03  ...   \n",
       "50%     5.792558e-03       0.164248  5.768750e-03  9.872834e-03  ...   \n",
       "75%     8.684554e-03       0.260202  8.652639e-03  1.635911e-01  ...   \n",
       "max     2.507711e+00       2.918675  6.798167e+00  1.625262e+00  ...   \n",
       "\n",
       "               D_137        D_138         D_139         D_140         D_141  \\\n",
       "count   7.186000e+03  7186.000000  1.964970e+05  1.985810e+05  1.964970e+05   \n",
       "unique           NaN          NaN           NaN           NaN           NaN   \n",
       "top              NaN          NaN           NaN           NaN           NaN   \n",
       "freq             NaN          NaN           NaN           NaN           NaN   \n",
       "mean    1.424359e-02     0.162349  1.798358e-01  2.622542e-02  1.653822e-01   \n",
       "std     9.543979e-02     0.258647  3.798505e-01  1.441568e-01  3.490555e-01   \n",
       "min     4.129697e-08     0.000002  7.139375e-08  5.277736e-08  5.642931e-08   \n",
       "25%     2.589397e-03     0.003541  3.018427e-03  2.551375e-03  3.033245e-03   \n",
       "50%     5.141117e-03     0.007028  6.041458e-03  5.109293e-03  6.062756e-03   \n",
       "75%     7.667529e-03     0.501621  9.096570e-03  7.658175e-03  9.094362e-03   \n",
       "max     1.009913e+00     1.509486  1.010000e+00  1.009994e+00  1.174753e+00   \n",
       "\n",
       "               D_142         D_143         D_144         D_145         target  \n",
       "count   34356.000000  1.964970e+05  1.985670e+05  1.964970e+05  200000.000000  \n",
       "unique           NaN           NaN           NaN           NaN            NaN  \n",
       "top              NaN           NaN           NaN           NaN            NaN  \n",
       "freq             NaN           NaN           NaN           NaN            NaN  \n",
       "mean        0.392596  1.797362e-01  5.339187e-02  6.179908e-02       0.253395  \n",
       "std         0.238923  3.797464e-01  1.851044e-01  1.901802e-01       0.434956  \n",
       "min        -0.014441  1.653580e-08  1.161969e-07  3.397747e-08       0.000000  \n",
       "25%         0.196174  3.034162e-03  2.752575e-03  3.027842e-03       0.000000  \n",
       "50%         0.382038  6.077791e-03  5.499113e-03  6.059988e-03       0.000000  \n",
       "75%         0.566102  9.088631e-03  8.267479e-03  9.093526e-03       1.000000  \n",
       "max         1.751388  1.010000e+00  1.343284e+00  4.282032e+00       1.000000  \n",
       "\n",
       "[11 rows x 191 columns]"
      ]
     },
     "execution_count": 99,
     "metadata": {},
     "output_type": "execute_result"
    }
   ],
   "source": [
    "train_data.describe(include='all')"
   ]
  },
  {
   "cell_type": "code",
   "execution_count": 100,
   "metadata": {
    "execution": {
     "iopub.execute_input": "2022-11-10T16:07:48.454572Z",
     "iopub.status.busy": "2022-11-10T16:07:48.454093Z",
     "iopub.status.idle": "2022-11-10T16:07:48.465084Z",
     "shell.execute_reply": "2022-11-10T16:07:48.463620Z",
     "shell.execute_reply.started": "2022-11-10T16:07:48.454530Z"
    }
   },
   "outputs": [
    {
     "data": {
      "text/plain": [
       "customer_ID     object\n",
       "S_2             object\n",
       "P_2            float64\n",
       "D_39           float64\n",
       "B_1            float64\n",
       "                ...   \n",
       "D_142          float64\n",
       "D_143          float64\n",
       "D_144          float64\n",
       "D_145          float64\n",
       "target           int64\n",
       "Length: 191, dtype: object"
      ]
     },
     "execution_count": 100,
     "metadata": {},
     "output_type": "execute_result"
    }
   ],
   "source": [
    "train_data.dtypes"
   ]
  },
  {
   "cell_type": "code",
   "execution_count": 105,
   "metadata": {
    "execution": {
     "iopub.execute_input": "2022-11-10T16:27:01.016895Z",
     "iopub.status.busy": "2022-11-10T16:27:01.016328Z",
     "iopub.status.idle": "2022-11-10T16:27:02.420452Z",
     "shell.execute_reply": "2022-11-10T16:27:02.419345Z",
     "shell.execute_reply.started": "2022-11-10T16:27:01.016851Z"
    }
   },
   "outputs": [
    {
     "data": {
      "text/plain": [
       "<AxesSubplot:xlabel='D_39'>"
      ]
     },
     "execution_count": 105,
     "metadata": {},
     "output_type": "execute_result"
    },
    {
     "data": {
      "image/png": "[encoded data removed]",
      "text/plain": [
       "<Figure size 432x288 with 1 Axes>"
      ]
     },
     "metadata": {
      "needs_background": "light"
     },
     "output_type": "display_data"
    }
   ],
   "source": [
    "#Two numerical columns\n",
    "train_data.plot(x='D_39', y='P_2', style='o')"
   ]
  },
  {
   "cell_type": "code",
   "execution_count": 106,
   "metadata": {
    "execution": {
     "iopub.execute_input": "2022-11-10T16:34:03.663422Z",
     "iopub.status.busy": "2022-11-10T16:34:03.662861Z",
     "iopub.status.idle": "2022-11-10T16:34:06.674428Z",
     "shell.execute_reply": "2022-11-10T16:34:06.672877Z",
     "shell.execute_reply.started": "2022-11-10T16:34:03.663378Z"
    }
   },
   "outputs": [
    {
     "data": {
      "text/plain": [
       "<AxesSubplot:xlabel='B_30', ylabel='D_39'>"
      ]
     },
     "execution_count": 106,
     "metadata": {},
     "output_type": "execute_result"
    },
    {
     "data": {
      "image/png": "[encoded data removed]",
      "text/plain": [
       "<Figure size 432x288 with 1 Axes>"
      ]
     },
     "metadata": {
      "needs_background": "light"
     },
     "output_type": "display_data"
    }
   ],
   "source": [
    "#Plot one numerical and one categorical column.\n",
    "sns.barplot(data=train_data, x=\"B_30\", y=\"D_39\", palette=\"Set2\")"
   ]
  },
  {
   "cell_type": "code",
   "execution_count": 108,
   "metadata": {
    "execution": {
     "iopub.execute_input": "2022-11-10T16:37:34.489835Z",
     "iopub.status.busy": "2022-11-10T16:37:34.489457Z",
     "iopub.status.idle": "2022-11-10T16:37:36.874680Z",
     "shell.execute_reply": "2022-11-10T16:37:36.873729Z",
     "shell.execute_reply.started": "2022-11-10T16:37:34.489804Z"
    }
   },
   "outputs": [
    {
     "data": {
      "text/plain": [
       "<AxesSubplot:xlabel='B_30'>"
      ]
     },
     "execution_count": 108,
     "metadata": {},
     "output_type": "execute_result"
    },
    {
     "data": {
      "image/png": "[encoded data removed]",
      "text/plain": [
       "<Figure size 432x288 with 1 Axes>"
      ]
     },
     "metadata": {
      "needs_background": "light"
     },
     "output_type": "display_data"
    }
   ],
   "source": [
    "#Plot two numerical columns and one categorical column.\n",
    "train_data.plot(x=\"B_30\", y=['D_39', 'P_2'],style='o')"
   ]
  },
  {
   "cell_type": "code",
   "execution_count": 109,
   "metadata": {
    "execution": {
     "iopub.execute_input": "2022-11-10T16:42:42.467630Z",
     "iopub.status.busy": "2022-11-10T16:42:42.467198Z",
     "iopub.status.idle": "2022-11-10T16:42:42.584964Z",
     "shell.execute_reply": "2022-11-10T16:42:42.583603Z",
     "shell.execute_reply.started": "2022-11-10T16:42:42.467598Z"
    }
   },
   "outputs": [
    {
     "data": {
      "text/plain": [
       "customer_ID         0\n",
       "S_2                 0\n",
       "P_2              1542\n",
       "D_39                0\n",
       "B_1                 0\n",
       "                ...  \n",
       "D_142          165644\n",
       "D_143            3503\n",
       "D_144            1433\n",
       "D_145            3503\n",
       "target              0\n",
       "Length: 191, dtype: int64"
      ]
     },
     "execution_count": 109,
     "metadata": {},
     "output_type": "execute_result"
    }
   ],
   "source": [
    "train_data.isnull().sum()"
   ]
  },
  {
   "cell_type": "code",
   "execution_count": 111,
   "metadata": {
    "execution": {
     "iopub.execute_input": "2022-11-10T16:43:49.368053Z",
     "iopub.status.busy": "2022-11-10T16:43:49.367580Z",
     "iopub.status.idle": "2022-11-10T16:43:52.702950Z",
     "shell.execute_reply": "2022-11-10T16:43:52.701999Z",
     "shell.execute_reply.started": "2022-11-10T16:43:49.368008Z"
    }
   },
   "outputs": [
    {
     "name": "stdout",
     "output_type": "stream",
     "text": [
      "Dropping column D_42\n",
      "Dropping column D_49\n",
      "Dropping column D_53\n",
      "Dropping column D_66\n",
      "Dropping column D_73\n",
      "Dropping column D_76\n",
      "Dropping column R_9\n",
      "Dropping column D_82\n",
      "Dropping column B_29\n",
      "Dropping column D_87\n",
      "Dropping column D_88\n",
      "Dropping column D_106\n",
      "Dropping column R_26\n",
      "Dropping column D_108\n",
      "Dropping column D_110\n",
      "Dropping column D_111\n",
      "Dropping column B_39\n",
      "Dropping column B_42\n",
      "Dropping column D_132\n",
      "Dropping column D_134\n",
      "Dropping column D_135\n",
      "Dropping column D_136\n",
      "Dropping column D_137\n",
      "Dropping column D_138\n",
      "Dropping column D_142\n",
      "Total number of columns dropped in train dataframe 25\n"
     ]
    }
   ],
   "source": [
    "i=0\n",
    "for col in train_data.columns:\n",
    "    if (train_data[col].isnull().sum()/len(train_data[col])*100) >=70:\n",
    "        print(\"Dropping column\", col)\n",
    "        train_data.drop(labels=col,axis=1,inplace=True)\n",
    "        i=i+1\n",
    "        \n",
    "print(\"Total number of columns dropped in train dataframe\", i)"
   ]
  },
  {
   "cell_type": "code",
   "execution_count": 112,
   "metadata": {
    "execution": {
     "iopub.execute_input": "2022-11-10T16:46:18.647413Z",
     "iopub.status.busy": "2022-11-10T16:46:18.646897Z",
     "iopub.status.idle": "2022-11-10T16:46:18.660705Z",
     "shell.execute_reply": "2022-11-10T16:46:18.659653Z",
     "shell.execute_reply.started": "2022-11-10T16:46:18.647363Z"
    }
   },
   "outputs": [
    {
     "data": {
      "text/plain": [
       "0    74.6605\n",
       "1    25.3395\n",
       "Name: target, dtype: float64"
      ]
     },
     "execution_count": 112,
     "metadata": {},
     "output_type": "execute_result"
    }
   ],
   "source": [
    "train_data['target'].value_counts(normalize=True)*100"
   ]
  },
  {
   "cell_type": "code",
   "execution_count": 113,
   "metadata": {
    "execution": {
     "iopub.execute_input": "2022-11-10T16:46:47.001828Z",
     "iopub.status.busy": "2022-11-10T16:46:47.001415Z",
     "iopub.status.idle": "2022-11-10T16:46:47.220905Z",
     "shell.execute_reply": "2022-11-10T16:46:47.219315Z",
     "shell.execute_reply.started": "2022-11-10T16:46:47.001794Z"
    }
   },
   "outputs": [
    {
     "data": {
      "text/plain": [
       "<AxesSubplot:xlabel='target', ylabel='count'>"
      ]
     },
     "execution_count": 113,
     "metadata": {},
     "output_type": "execute_result"
    },
    {
     "data": {
      "image/png": "[encoded data removed]",
      "text/plain": [
       "<Figure size 432x288 with 1 Axes>"
      ]
     },
     "metadata": {
      "needs_background": "light"
     },
     "output_type": "display_data"
    }
   ],
   "source": [
    "sns.countplot(x = 'target',data = train_data)"
   ]
  },
  {
   "cell_type": "code",
   "execution_count": null,
   "metadata": {},
   "outputs": [],
   "source": []
  }
 ],
 "metadata": {
  "kernelspec": {
   "display_name": "Python 3",
   "language": "python",
   "name": "python3"
  },
  "language_info": {
   "codemirror_mode": {
    "name": "ipython",
    "version": 3
   },
   "file_extension": ".py",
   "mimetype": "text/x-python",
   "name": "python",
   "nbconvert_exporter": "python",
   "pygments_lexer": "ipython3",
   "version": "3.7.6"
  }
 },
 "nbformat": 4,
 "nbformat_minor": 4
}
