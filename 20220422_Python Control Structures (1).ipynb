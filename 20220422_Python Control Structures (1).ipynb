{
 "cells": [
  {
   "cell_type": "markdown",
   "metadata": {},
   "source": [
    "# Introduction to Python : Part 02"
   ]
  },
  {
   "cell_type": "markdown",
   "metadata": {},
   "source": [
    "### Agenda\n",
    "* Importance of indentation in python\n",
    "* input() method\n",
    "* Loops and Control Statements \n",
    "    * if Statements\n",
    "    * While loop\n",
    "    * For loop\n",
    "        * Python Iterators and enumerator\n",
    "        * Loop through the List\n",
    "        * Loop through a Dictionary\n",
    "        * Loop through a Set\n",
    "        * Loop through a Tuple\n",
    "    * break statement\n",
    "    * continue statement\n",
    "    * pass statement\n",
    "* Comprehensions in Python\n",
    "\t* List Comprehensions\n",
    "\t\t* List comprehensions with conditions\n",
    "\t\t* Nested list comprehensions\n",
    "\t\t* Nested List comprehensions with condition\n",
    "\t* Dictionary Comprehensions\n",
    "\t* Set Comprehensions\n",
    "* zip() Function"
   ]
  },
  {
   "cell_type": "markdown",
   "metadata": {},
   "source": [
    "### Indentation\n",
    "* __Indentation__ refers to the `spaces` at the __beginning__ of a code line. \n",
    "* In other programming languages the indentation in code is for `readability` \n",
    "* In `Python` indentation is __very important__ and python uses __indentation__ to indicate a `block of code`."
   ]
  },
  {
   "cell_type": "markdown",
   "metadata": {},
   "source": [
    "#### `input()` method \n",
    "\n",
    "Reads a line from input, converts the line into a string by removing the trailing newline, and returns it."
   ]
  },
  {
   "cell_type": "markdown",
   "metadata": {},
   "source": [
    "## Control Flow"
   ]
  },
  {
   "cell_type": "markdown",
   "metadata": {},
   "source": [
    "### `if` Statements"
   ]
  },
  {
   "cell_type": "code",
   "execution_count": 1,
   "metadata": {
    "scrolled": true
   },
   "outputs": [
    {
     "name": "stdin",
     "output_type": "stream",
     "text": [
      "Please enter an integer:  7\n"
     ]
    }
   ],
   "source": [
    "x = int(input(\"Please enter an integer: \"))"
   ]
  },
  {
   "cell_type": "code",
   "execution_count": 24,
   "metadata": {},
   "outputs": [
    {
     "name": "stdout",
     "output_type": "stream",
     "text": [
      "More\n"
     ]
    }
   ],
   "source": [
    "if x < 0:\n",
    "    x = 0\n",
    "    print('Negative changed to zero')\n",
    "elif x == 0:\n",
    "    print('Zero')\n",
    "elif x == 1:\n",
    "    print('Single')\n",
    "else:\n",
    "    print('More')"
   ]
  },
  {
   "cell_type": "markdown",
   "metadata": {},
   "source": [
    "### While Loop"
   ]
  },
  {
   "cell_type": "code",
   "execution_count": 25,
   "metadata": {},
   "outputs": [
    {
     "name": "stdout",
     "output_type": "stream",
     "text": [
      "Count: 0\n",
      "Count: 1\n",
      "Count: 2\n",
      "Count: 3\n",
      "Count: 4\n",
      "End of while loop!\n"
     ]
    }
   ],
   "source": [
    "count = 0\n",
    "while (count < 5):\n",
    "   print ('Count:', count)\n",
    "   count = count + 1\n",
    "\n",
    "print (\"End of while loop!\")"
   ]
  },
  {
   "cell_type": "markdown",
   "metadata": {},
   "source": [
    "If the `else` statement is used with a __while__ loop, the `else` statement is __executed__ when the __condition__ becomes `false`."
   ]
  },
  {
   "cell_type": "code",
   "execution_count": 26,
   "metadata": {},
   "outputs": [
    {
     "name": "stdout",
     "output_type": "stream",
     "text": [
      "0 is less than 5\n",
      "1 is less than 5\n",
      "2 is less than 5\n",
      "3 is less than 5\n",
      "4 is less than 5\n",
      "5 is not less than 5\n",
      "End of while loop!\n"
     ]
    }
   ],
   "source": [
    "count = 0\n",
    "\n",
    "while count < 5:\n",
    "   print (count, \"is less than 5\")\n",
    "   count = count + 1\n",
    "else:\n",
    "   print (count, \"is not less than 5\")\n",
    "\n",
    "print (\"End of while loop!\")"
   ]
  },
  {
   "cell_type": "markdown",
   "metadata": {},
   "source": [
    "### For Loop\n",
    "\n",
    "__For__ loop in Python is used to `iterate` over a __sequence__ or other __iterable objects__. "
   ]
  },
  {
   "cell_type": "markdown",
   "metadata": {},
   "source": [
    "### Python Iterators\n",
    "\n",
    "* An __iterator__ is an object that contains a `countable` number of values and can be `iterated` upon, meaning that you can `traverse` through __all the values__.\n",
    "\n",
    "* `Lists`, `tuples`, `dictionaries`, and `sets` are all __iterable__ objects."
   ]
  },
  {
   "cell_type": "markdown",
   "metadata": {},
   "source": [
    "#### Loop through the List using for loop"
   ]
  },
  {
   "cell_type": "code",
   "execution_count": 27,
   "metadata": {},
   "outputs": [
    {
     "name": "stdout",
     "output_type": "stream",
     "text": [
      "cat\n",
      "dog\n",
      "monkey\n"
     ]
    }
   ],
   "source": [
    "animals = ['cat', 'dog', 'monkey']\n",
    "\n",
    "for animal in animals:\n",
    "    print (animal)"
   ]
  },
  {
   "cell_type": "markdown",
   "metadata": {},
   "source": [
    "If the `else` statement is used with a `for` loop, the `else` statement is executed when the __loop has exhausted iterating__ the list."
   ]
  },
  {
   "cell_type": "code",
   "execution_count": 28,
   "metadata": {},
   "outputs": [
    {
     "name": "stdout",
     "output_type": "stream",
     "text": [
      "cat\n",
      "dog\n",
      "monkey\n",
      "End of list\n"
     ]
    }
   ],
   "source": [
    "animals = ['cat', 'dog', 'monkey']\n",
    "\n",
    "for animal in animals:\n",
    "    print (animal)\n",
    "else:\n",
    "    print (\"End of list\")"
   ]
  },
  {
   "cell_type": "markdown",
   "metadata": {},
   "source": [
    "#### Python `enumerate(iterable, start=0)`\n",
    "\n",
    "The `enumerate()` method adds __counter__ to an `iterable` and returns it (the enumerate object)."
   ]
  },
  {
   "cell_type": "code",
   "execution_count": 39,
   "metadata": {},
   "outputs": [
    {
     "name": "stdout",
     "output_type": "stream",
     "text": [
      "0 cat\n",
      "1 dog\n",
      "2 monkey\n",
      "End of list\n"
     ]
    }
   ],
   "source": [
    "animals = ['cat', 'dog', 'monkey']\n",
    "\n",
    "for index, element in enumerate(animals):\n",
    "    print (index, element)\n",
    "else:\n",
    "    print (\"End of list\")"
   ]
  },
  {
   "cell_type": "markdown",
   "metadata": {},
   "source": [
    "#### Loop through a Dictionary using for loop"
   ]
  },
  {
   "cell_type": "code",
   "execution_count": 5,
   "metadata": {},
   "outputs": [],
   "source": [
    "dict = {'person': 2, 'cat': 4, 'spider': 8}"
   ]
  },
  {
   "cell_type": "markdown",
   "metadata": {},
   "source": [
    "Loop over the `keys` in a dictionary using __for__ loop\n",
    "\n",
    "* When __looping__ through a `dictionary`, the __return__ value are the `keys` of the __dictionary__\n",
    "\n",
    "* The %s signifies that you want to add a string value into a string. The % operator can be used with other configurations, such as %d, to format different types of values"
   ]
  },
  {
   "cell_type": "code",
   "execution_count": 6,
   "metadata": {},
   "outputs": [
    {
     "name": "stdout",
     "output_type": "stream",
     "text": [
      "A person has 2 legs\n",
      "A cat has 4 legs\n",
      "A spider has 8 legs\n"
     ]
    }
   ],
   "source": [
    "for animal in dict:\n",
    "    legs = dict[animal]\n",
    "    print ('A %s has %d legs' % (animal, legs))"
   ]
  },
  {
   "cell_type": "code",
   "execution_count": 7,
   "metadata": {},
   "outputs": [
    {
     "name": "stdout",
     "output_type": "stream",
     "text": [
      "2\n",
      "4\n",
      "8\n"
     ]
    }
   ],
   "source": [
    "for animal in dict:\n",
    "    print(dict[animal])"
   ]
  },
  {
   "cell_type": "markdown",
   "metadata": {},
   "source": [
    "`values()` function to return __values__ of a dictionary"
   ]
  },
  {
   "cell_type": "code",
   "execution_count": 8,
   "metadata": {},
   "outputs": [
    {
     "name": "stdout",
     "output_type": "stream",
     "text": [
      "2\n",
      "4\n",
      "8\n"
     ]
    }
   ],
   "source": [
    "for legs in dict.values():\n",
    "    print (legs)"
   ]
  },
  {
   "cell_type": "markdown",
   "metadata": {},
   "source": [
    "Loop through both __keys__ and __values__, by using the `items()` function"
   ]
  },
  {
   "cell_type": "code",
   "execution_count": 9,
   "metadata": {},
   "outputs": [
    {
     "name": "stdout",
     "output_type": "stream",
     "text": [
      "person 2\n",
      "cat 4\n",
      "spider 8\n"
     ]
    }
   ],
   "source": [
    "for key, values in dict.items():\n",
    "    print(key, values)"
   ]
  },
  {
   "cell_type": "markdown",
   "metadata": {},
   "source": [
    "#### Loop through a Set using for loop"
   ]
  },
  {
   "cell_type": "code",
   "execution_count": 35,
   "metadata": {
    "collapsed": true,
    "jupyter": {
     "outputs_hidden": true
    }
   },
   "outputs": [
    {
     "data": {
      "text/plain": [
       "{2, 4, 8, 16}"
      ]
     },
     "execution_count": 35,
     "metadata": {},
     "output_type": "execute_result"
    }
   ],
   "source": [
    "s = {2, 4, 8, 16}\n",
    "s"
   ]
  },
  {
   "cell_type": "code",
   "execution_count": 36,
   "metadata": {
    "collapsed": true,
    "jupyter": {
     "outputs_hidden": true
    }
   },
   "outputs": [
    {
     "name": "stdout",
     "output_type": "stream",
     "text": [
      "{8, 16, 2, 4}\n"
     ]
    }
   ],
   "source": [
    "print(s)"
   ]
  },
  {
   "cell_type": "code",
   "execution_count": 37,
   "metadata": {
    "collapsed": true,
    "jupyter": {
     "outputs_hidden": true
    }
   },
   "outputs": [
    {
     "name": "stdout",
     "output_type": "stream",
     "text": [
      "8\n",
      "16\n",
      "2\n",
      "4\n"
     ]
    }
   ],
   "source": [
    "for num in s:\n",
    "    print(num)     "
   ]
  },
  {
   "cell_type": "markdown",
   "metadata": {},
   "source": [
    "#### Loop through a Tuple using for loop"
   ]
  },
  {
   "cell_type": "code",
   "execution_count": 38,
   "metadata": {
    "collapsed": true,
    "jupyter": {
     "outputs_hidden": true
    }
   },
   "outputs": [
    {
     "name": "stdout",
     "output_type": "stream",
     "text": [
      "2\n",
      "4\n",
      "8\n"
     ]
    }
   ],
   "source": [
    "s = (2, 4, 8)\n",
    "for num in s:\n",
    "    print(num)"
   ]
  },
  {
   "cell_type": "markdown",
   "metadata": {},
   "source": [
    "### break statement\n",
    "\n",
    "`Terminates` the __loop__ statement and `transfers` execution to the statement __immediately__ following the loop."
   ]
  },
  {
   "cell_type": "code",
   "execution_count": 10,
   "metadata": {},
   "outputs": [
    {
     "name": "stdout",
     "output_type": "stream",
     "text": [
      "Letter : P\n",
      "Letter : y\n",
      "Letter : t\n",
      "Statement immediate after the for loop\n"
     ]
    }
   ],
   "source": [
    "for letter in 'Python':\n",
    "   if letter == 'h':\n",
    "      break\n",
    "   print ('Letter :', letter)\n",
    "\n",
    "print(\"Statement immediate after the for loop\")"
   ]
  },
  {
   "cell_type": "markdown",
   "metadata": {},
   "source": [
    "### continue statement\n",
    "\n",
    "Causes the loop to `skip` the __remaining__ part of its body and `immediately` __retest__ its `condition` prior to reiterating."
   ]
  },
  {
   "cell_type": "code",
   "execution_count": 11,
   "metadata": {},
   "outputs": [
    {
     "name": "stdout",
     "output_type": "stream",
     "text": [
      "Letter : P\n",
      "Letter : y\n",
      "Letter : t\n",
      "Letter : o\n",
      "Letter : n\n",
      "Statement immediate after the for loop\n"
     ]
    }
   ],
   "source": [
    "for letter in 'Python':\n",
    "   if letter == 'h':\n",
    "      continue\n",
    "   print ('Letter :', letter)\n",
    "\n",
    "print(\"Statement immediate after the for loop\")"
   ]
  },
  {
   "cell_type": "markdown",
   "metadata": {},
   "source": [
    "### pass statement\n",
    "\n",
    "The __pass__ statement `does nothing`. It can be used when a statement is required __syntactically__ but the program requires __no action__."
   ]
  },
  {
   "cell_type": "code",
   "execution_count": 12,
   "metadata": {},
   "outputs": [
    {
     "name": "stdout",
     "output_type": "stream",
     "text": [
      "Letter : P\n",
      "Letter : y\n",
      "Letter : t\n",
      "This is pass block\n",
      "Letter : h\n",
      "Letter : o\n",
      "Letter : n\n"
     ]
    }
   ],
   "source": [
    "for letter in 'Python': \n",
    "   if letter == 'h':\n",
    "      pass\n",
    "      print ('This is pass block')\n",
    "   print ('Letter :', letter)"
   ]
  },
  {
   "cell_type": "markdown",
   "metadata": {},
   "source": [
    "## Comprehensions in Python\n",
    "\n",
    "__Comprehensions__ in Python provide a `short` and `concise` way to `construct` __lists__, __set__, __dictionary__ etc using __sequences__ which have been already defined.\n",
    "\n",
    "* List Comprehensions\n",
    "* Dictionary Comprehensions\n",
    "* Set Comprehensions"
   ]
  },
  {
   "cell_type": "markdown",
   "metadata": {},
   "source": [
    "### List comprehensions"
   ]
  },
  {
   "cell_type": "code",
   "execution_count": 14,
   "metadata": {},
   "outputs": [],
   "source": [
    "nums = [0, 1, 2, 3, 4]"
   ]
  },
  {
   "cell_type": "markdown",
   "metadata": {},
   "source": [
    "Create the new list by squaring each element in the __nums__ list"
   ]
  },
  {
   "cell_type": "code",
   "execution_count": 44,
   "metadata": {},
   "outputs": [
    {
     "name": "stdout",
     "output_type": "stream",
     "text": [
      "[0, 1, 4, 9, 16]\n"
     ]
    }
   ],
   "source": [
    "squares = []\n",
    "for x in nums:\n",
    "    squares.append(x ** 2)\n",
    "\n",
    "print(squares)"
   ]
  },
  {
   "cell_type": "markdown",
   "metadata": {},
   "source": [
    "You can make this code simpler using a list comprehension:"
   ]
  },
  {
   "cell_type": "code",
   "execution_count": 45,
   "metadata": {},
   "outputs": [
    {
     "name": "stdout",
     "output_type": "stream",
     "text": [
      "[0, 1, 4, 9, 16]\n"
     ]
    }
   ],
   "source": [
    "squares = [x**2 for x in nums]\n",
    "\n",
    "print (squares)"
   ]
  },
  {
   "cell_type": "markdown",
   "metadata": {},
   "source": [
    "#### List comprehensions can also contain conditions:"
   ]
  },
  {
   "cell_type": "markdown",
   "metadata": {},
   "source": [
    "Consider only even number to create the even_squares list"
   ]
  },
  {
   "cell_type": "code",
   "execution_count": 46,
   "metadata": {},
   "outputs": [
    {
     "name": "stdout",
     "output_type": "stream",
     "text": [
      "[0, 4, 16]\n"
     ]
    }
   ],
   "source": [
    "even_squares = [x ** 2 for x in nums if (x % 2) == 0]\n",
    "\n",
    "print (even_squares)"
   ]
  },
  {
   "cell_type": "code",
   "execution_count": 17,
   "metadata": {},
   "outputs": [
    {
     "name": "stdout",
     "output_type": "stream",
     "text": [
      "[0, 1, 4, 27, 16]\n"
     ]
    }
   ],
   "source": [
    "even_squares = [x ** 2  if (x % 2) == 0 else x ** 3 for x in nums ]\n",
    "\n",
    "print (even_squares)"
   ]
  },
  {
   "cell_type": "markdown",
   "metadata": {},
   "source": [
    "#### Nested list comprehensions\n",
    "\n",
    "Suppose I want to flatten a given 2-D list"
   ]
  },
  {
   "cell_type": "raw",
   "metadata": {},
   "source": [
    "[[1, 2, 3], \n",
    " [4, 5, 6], \n",
    " [7, 8, 9]]\n",
    "\n",
    "Expected Output: \n",
    "\n",
    "[1, 2, 3, 4, 5, 6, 7, 8, 9]"
   ]
  },
  {
   "cell_type": "code",
   "execution_count": 20,
   "metadata": {},
   "outputs": [
    {
     "name": "stdout",
     "output_type": "stream",
     "text": [
      "[[1, 2, 3], [4, 5, 6], [7, 8, 9]]\n"
     ]
    }
   ],
   "source": [
    "# 2-D List \n",
    "list_2d = [[1, 2, 3], \n",
    "           [4, 5, 6], \n",
    "           [7, 8, 9]]  \n",
    "\n",
    "print(list_2d)    "
   ]
  },
  {
   "cell_type": "markdown",
   "metadata": {},
   "source": [
    "This can be done using nested for loops as follows:"
   ]
  },
  {
   "cell_type": "code",
   "execution_count": 50,
   "metadata": {},
   "outputs": [
    {
     "name": "stdout",
     "output_type": "stream",
     "text": [
      "[1, 2, 3]\n",
      "1\n",
      "2\n",
      "3\n",
      "[4, 5, 6]\n",
      "4\n",
      "5\n",
      "6\n",
      "[7, 8, 9]\n",
      "7\n",
      "8\n",
      "9\n",
      "[1, 2, 3, 4, 5, 6, 7, 8, 9]\n"
     ]
    }
   ],
   "source": [
    "flatten_list = []   \n",
    "for sublist in list_2d:\n",
    "    print(sublist)\n",
    "    for val in sublist: \n",
    "        print(val)\n",
    "        flatten_list.append(val) \n",
    "          \n",
    "print(flatten_list)"
   ]
  },
  {
   "cell_type": "markdown",
   "metadata": {},
   "source": [
    "Using nested list comprehension"
   ]
  },
  {
   "cell_type": "code",
   "execution_count": 21,
   "metadata": {},
   "outputs": [
    {
     "name": "stdout",
     "output_type": "stream",
     "text": [
      "[1, 2, 3, 4, 5, 6, 7, 8, 9]\n"
     ]
    }
   ],
   "source": [
    "# Nested List Comprehension to flatten a given 2-D matrix \n",
    "flatten_list_2d = [val for sublist in list_2d for val in sublist] \n",
    "  \n",
    "print(flatten_list_2d) "
   ]
  },
  {
   "cell_type": "markdown",
   "metadata": {},
   "source": [
    "__For understanding__: Divide the nested list comprehension into three parts:\n",
    "\n",
    "`flatten_list = [val\n",
    "                 for sublist in list_2d\n",
    "                 for val in sublist]`\n",
    "\n",
    "* First line suggests what we want to append to the list. \n",
    "* Second line is the outer loop and \n",
    "* Third line is the inner loop."
   ]
  },
  {
   "cell_type": "markdown",
   "metadata": {},
   "source": [
    "#### Nested List comprehensions with condition\n",
    "\n",
    "Suppose I want to flatten a given 2-D list and include only those strings that of length less than 6:"
   ]
  },
  {
   "cell_type": "raw",
   "metadata": {},
   "source": [
    "[[‘Mercury’, ‘Venus’, ‘Earth’], \n",
    " [‘Mars’, ‘Jupiter’, ‘Saturn’], \n",
    " [‘Uranus’, ‘Neptune’, ‘Pluto’]]\n",
    "           \n",
    "Expected Output: \n",
    "    [‘Venus’, ‘Earth’, ‘Mars’, ‘Pluto’]"
   ]
  },
  {
   "cell_type": "code",
   "execution_count": 23,
   "metadata": {},
   "outputs": [
    {
     "data": {
      "text/plain": [
       "[['Mercury', 'Venus', 'Earth'],\n",
       " ['Mars', 'Jupiter', 'Saturn'],\n",
       " ['Uranus', 'Neptune', 'Pluto']]"
      ]
     },
     "execution_count": 23,
     "metadata": {},
     "output_type": "execute_result"
    }
   ],
   "source": [
    "# 2-D List of planets \n",
    "planets = [['Mercury', 'Venus', 'Earth'], \n",
    "           ['Mars', 'Jupiter', 'Saturn'], \n",
    "           ['Uranus', 'Neptune', 'Pluto']] \n",
    "planets"
   ]
  },
  {
   "cell_type": "markdown",
   "metadata": {},
   "source": [
    "Using an if condition inside a nested for loop "
   ]
  },
  {
   "cell_type": "code",
   "execution_count": 24,
   "metadata": {},
   "outputs": [
    {
     "name": "stdout",
     "output_type": "stream",
     "text": [
      "['Venus', 'Earth', 'Mars', 'Pluto']\n"
     ]
    }
   ],
   "source": [
    "flatten_planets = [] \n",
    "  \n",
    "for sublist in planets: \n",
    "    for planet in sublist:           \n",
    "        if len(planet) < 6: \n",
    "            flatten_planets.append(planet) \n",
    "          \n",
    "print(flatten_planets) "
   ]
  },
  {
   "cell_type": "markdown",
   "metadata": {},
   "source": [
    "__Nested__ `list comprehensions` with an `if` condition"
   ]
  },
  {
   "cell_type": "code",
   "execution_count": 25,
   "metadata": {},
   "outputs": [
    {
     "name": "stdout",
     "output_type": "stream",
     "text": [
      "['Venus', 'Earth', 'Mars', 'Pluto']\n"
     ]
    }
   ],
   "source": [
    "flatten_planets = [planet for sublist in planets for planet in sublist if len(planet) < 6] \n",
    "          \n",
    "print(flatten_planets) "
   ]
  },
  {
   "cell_type": "markdown",
   "metadata": {},
   "source": [
    "__Understanding__: \n",
    "\n",
    "This can be divided into 4 parts as follows:\n",
    "\n",
    "`flatten_planets = [planet \n",
    "                   for sublist in planets \n",
    "                   for planet in sublist \n",
    "                   if len(planet) < 6]` "
   ]
  },
  {
   "cell_type": "markdown",
   "metadata": {},
   "source": [
    "### Set comprehensions\n",
    "\n",
    "`Set comprehensions` are pretty __similar__ to `list comprehensions`. The only difference between them is that `set comprehensions` use `curly brackets` `{ }`. "
   ]
  },
  {
   "cell_type": "code",
   "execution_count": 60,
   "metadata": {},
   "outputs": [
    {
     "name": "stdout",
     "output_type": "stream",
     "text": [
      "{2, 4, 6}\n"
     ]
    }
   ],
   "source": [
    "l = [1, 2, 3, 4, 4, 5, 6, 6, 6, 7, 7] \n",
    "\n",
    "s = {var for var in l if var % 2 == 0}\n",
    "\n",
    "print(s)"
   ]
  },
  {
   "cell_type": "code",
   "execution_count": 61,
   "metadata": {},
   "outputs": [
    {
     "name": "stdout",
     "output_type": "stream",
     "text": [
      "[2, 4, 6]\n"
     ]
    }
   ],
   "source": [
    "l = {1, 2, 3, 4, 4, 5, 6, 6, 6, 7, 7}\n",
    "\n",
    "s = [var for var in l if var % 2 == 0]\n",
    "\n",
    "print(s)"
   ]
  },
  {
   "cell_type": "markdown",
   "metadata": {},
   "source": [
    "### Dictionary Comprehensions:\n",
    "\n",
    "`Dictionary comprehensions` are similar to `list comprehensions`, but allow you to easily __construct__ dictionaries."
   ]
  },
  {
   "cell_type": "code",
   "execution_count": 62,
   "metadata": {},
   "outputs": [
    {
     "name": "stdout",
     "output_type": "stream",
     "text": [
      "{'a': 1, 'b': 2, 'c': 3, 'd': 4, 'e': 5}\n"
     ]
    }
   ],
   "source": [
    "# Python code to demonstrate dictionary  \n",
    "# comprehension \n",
    "  \n",
    "# Lists to represent keys and values \n",
    "keys = ['a','b','c','d','e'] \n",
    "values = [1,2,3,4,5]   \n",
    "  \n",
    "# but this line shows dict comprehension here   \n",
    "myDict = { k:v for (k,v) in zip(keys, values)}   \n",
    "  \n",
    "# We can use below too \n",
    "# myDict = dict(zip(keys, values))   \n",
    "  \n",
    "print (myDict) "
   ]
  },
  {
   "cell_type": "code",
   "execution_count": null,
   "metadata": {},
   "outputs": [],
   "source": [
    "nums = [0, 1, 2, 3, 4]\n",
    "even_num_to_square = {x:x**2 for x in nums if x % 2 == 0}\n",
    "\n",
    "print (even_num_to_square)"
   ]
  },
  {
   "cell_type": "markdown",
   "metadata": {},
   "source": [
    "### Python zip() Function\n",
    "\n",
    "The purpose of __zip()__ is to `map` the `similar index` of __multiple containers__ so that they can be used just using as single entity.\n",
    "    \n",
    "`zip(*iterators)`\n",
    "\n",
    "    Parameters : Python iterables or containers ( list, string etc )\n",
    "    Return Value : Returns a single iterator object, having mapped values from all the containers."
   ]
  },
  {
   "cell_type": "code",
   "execution_count": 31,
   "metadata": {},
   "outputs": [
    {
     "name": "stdout",
     "output_type": "stream",
     "text": [
      "<zip object at 0x7f99f456c780>\n"
     ]
    },
    {
     "data": {
      "text/plain": [
       "zip"
      ]
     },
     "execution_count": 31,
     "metadata": {},
     "output_type": "execute_result"
    }
   ],
   "source": [
    "# initializing lists \n",
    "name = [\"Sachin\", \"Sehwag\", \"Dravid\", \"Gambhir\"] \n",
    "roll_no = [10, 44, 19, 5] \n",
    "score = [ 99, 91, 95, 90] \n",
    "  \n",
    "# Use zip() to map values \n",
    "mapped = zip(name, roll_no, score) \n",
    "  \n",
    "print(mapped)\n",
    "type(mapped)"
   ]
  },
  {
   "cell_type": "code",
   "execution_count": 32,
   "metadata": {},
   "outputs": [
    {
     "name": "stdout",
     "output_type": "stream",
     "text": [
      "[('Sachin', 10, 99), ('Sehwag', 44, 91), ('Dravid', 19, 95), ('Gambhir', 5, 90)]\n"
     ]
    }
   ],
   "source": [
    "# converting values to print as list \n",
    "mapped = list(mapped) \n",
    "  \n",
    "# printing resultant values  \n",
    "print (mapped) "
   ]
  },
  {
   "cell_type": "code",
   "execution_count": 65,
   "metadata": {},
   "outputs": [
    {
     "data": {
      "text/plain": [
       "list"
      ]
     },
     "execution_count": 65,
     "metadata": {},
     "output_type": "execute_result"
    }
   ],
   "source": [
    "type(mapped)"
   ]
  },
  {
   "cell_type": "markdown",
   "metadata": {},
   "source": [
    "#### How to unzip?\n",
    "* __Unzipping__ means converting the `zipped` values back to the `individual self` as they were. \n",
    "* This is done with the help of `*` operator."
   ]
  },
  {
   "cell_type": "code",
   "execution_count": 66,
   "metadata": {},
   "outputs": [
    {
     "name": "stdout",
     "output_type": "stream",
     "text": [
      "('Sachin', 'Sehwag', 'Dravid', 'Gambhir')\n",
      "(10, 44, 19, 5)\n",
      "(99, 91, 95, 90)\n"
     ]
    }
   ],
   "source": [
    "# unzipping values \n",
    "namez, roll_noz, scorez = zip(*mapped) \n",
    "   \n",
    "print (namez)  \n",
    "print (roll_noz) \n",
    "print (scorez) "
   ]
  },
  {
   "cell_type": "code",
   "execution_count": 67,
   "metadata": {},
   "outputs": [
    {
     "name": "stdout",
     "output_type": "stream",
     "text": [
      "Player = Sachin :: Score = 99\n",
      "Player = Sehwag :: Score = 91\n",
      "Player = Dravid :: Score = 95\n",
      "Player = Gambhir :: Score = 90\n"
     ]
    }
   ],
   "source": [
    "# printing player names and scores. \n",
    "for pl, sc in zip(name, score): \n",
    "    print(\"Player = %s :: Score = %d\" %(pl, sc)) "
   ]
  },
  {
   "cell_type": "markdown",
   "metadata": {},
   "source": [
    "### Learning Outcomes\n",
    "* Be able to understand input() method\n",
    "* Be able to understand indentation in Python\n",
    "* Be able to understand and implement basic programming constructs\n",
    "    * Be able to use and write conditional statements\n",
    "    * Be able to define and implement loops in python\n",
    "* Be able to understand, write and implement several operations while programming\n",
    "    * Be able to retrieve data type and index\n",
    "    * Be able to implement various list operations: slicing, iterating list, appending and extending list, list     comprehensions\n",
    "    * Be able to implement various dictionary operations: iterating a dictionary, dictionary comprehensions\n",
    "    * Be able to implement various set operations: iterating a set, set comprehensions\n",
    "    * Be able to understand zip() Function"
   ]
  },
  {
   "cell_type": "markdown",
   "metadata": {},
   "source": [
    "Ref: \n",
    "* https://docs.python.org/3.7/tutorial\n",
    "* http://cs231n.github.io/python-numpy-tutorial/"
   ]
  }
 ],
 "metadata": {
  "anaconda-cloud": {},
  "kernelspec": {
   "display_name": "Python 3",
   "language": "python",
   "name": "python3"
  },
  "language_info": {
   "codemirror_mode": {
    "name": "ipython",
    "version": 3
   },
   "file_extension": ".py",
   "mimetype": "text/x-python",
   "name": "python",
   "nbconvert_exporter": "python",
   "pygments_lexer": "ipython3",
   "version": "3.7.6"
  }
 },
 "nbformat": 4,
 "nbformat_minor": 4
}
